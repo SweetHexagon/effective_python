{
 "cells": [
  {
   "cell_type": "markdown",
   "metadata": {},
   "source": [
    "## Lab 07"
   ]
  },
  {
   "cell_type": "markdown",
   "metadata": {},
   "source": [
    "### Zadanie 1 - Regexy"
   ]
  },
  {
   "cell_type": "markdown",
   "metadata": {},
   "source": [
    "Przejdź 15 zadań ze strony http://regexone.com/"
   ]
  },
  {
   "cell_type": "markdown",
   "metadata": {},
   "source": [
    "### Zadanie 2 - Regexy"
   ]
  },
  {
   "cell_type": "markdown",
   "metadata": {},
   "source": [
    "_Atoms_\n",
    "\n",
    "Napisz program, który (używając wyrażeń regularnych) przefiltruje plik atoms.log tak by pozostały jedynie linie dot. bezproblemowego przebiegu eksperymentu.\n",
    "czyli np. powinny zostać odrzucone takie linie jak\n",
    "```\n",
    "RUN 000039 COMPLETED. OUTPUT IN FILE yttrium.dat. 1 UNDERFLOW WARNING.\n",
    "```\n",
    "czy\n",
    "```\n",
    "RUN 000058 COMPLETED. OUTPUT IN FILE cerium.dat. ALGORITHM DID NOT CONVERGE AFTER 100000 ITERATIONS.\n",
    "```\n",
    "można jedynie założyć, że każda linijka pasuje do poniższego schematu\n",
    "```\n",
    "RUN [[NUMER Z DOKŁADNIE 6 CYFR]] COMPLETED. OUTPUT IN FILE [[NAZWA]].dat. [[COKOLWIEK]]\n",
    "```"
   ]
  },
  {
   "cell_type": "code",
   "execution_count": 7,
   "metadata": {
    "ExecuteTime": {
     "end_time": "2023-12-01T10:59:35.643877900Z",
     "start_time": "2023-12-01T10:59:35.622982700Z"
    }
   },
   "outputs": [
    {
     "name": "stdout",
     "output_type": "stream",
     "text": [
      "RUN 000001 COMPLETED. OUTPUT IN FILE hydrogen.dat.\n",
      "\n",
      "RUN 000002 COMPLETED. OUTPUT IN FILE helium.dat.\n",
      "\n",
      "RUN 000003 COMPLETED. OUTPUT IN FILE lithium.dat.\n",
      "\n",
      "RUN 000004 COMPLETED. OUTPUT IN FILE beryllium.dat.\n",
      "\n",
      "RUN 000005 COMPLETED. OUTPUT IN FILE boron.dat.\n",
      "\n",
      "RUN 000006 COMPLETED. OUTPUT IN FILE carbon.dat.\n",
      "\n",
      "RUN 000007 COMPLETED. OUTPUT IN FILE nitogen.dat.\n",
      "\n",
      "RUN 000008 COMPLETED. OUTPUT IN FILE oxygen.dat.\n",
      "\n",
      "RUN 000009 COMPLETED. OUTPUT IN FILE fluorine.dat.\n",
      "\n",
      "RUN 000010 COMPLETED. OUTPUT IN FILE neon.dat.\n",
      "\n",
      "RUN 000011 COMPLETED. OUTPUT IN FILE sodium.dat.\n",
      "\n",
      "RUN 000012 COMPLETED. OUTPUT IN FILE magnesium.dat.\n",
      "\n",
      "RUN 000013 COMPLETED. OUTPUT IN FILE aluminium.dat.\n",
      "\n",
      "RUN 000014 COMPLETED. OUTPUT IN FILE silicon.dat.\n",
      "\n",
      "RUN 000015 COMPLETED. OUTPUT IN FILE phosphorus.dat.\n",
      "\n",
      "RUN 000016 COMPLETED. OUTPUT IN FILE sulphur.dat.\n",
      "\n",
      "RUN 000017 COMPLETED. OUTPUT IN FILE chlorine.dat.\n",
      "\n",
      "RUN 000018 COMPLETED. OUTPUT IN FILE argon.dat.\n",
      "\n",
      "RUN 000019 COMPLETED. OUTPUT IN FILE potassium.dat.\n",
      "\n",
      "RUN 000020 COMPLETED. OUTPUT IN FILE calcium.dat.\n",
      "\n",
      "RUN 000021 COMPLETED. OUTPUT IN FILE scandium.dat.\n",
      "\n",
      "RUN 000022 COMPLETED. OUTPUT IN FILE titanium.dat.\n",
      "\n",
      "RUN 000023 COMPLETED. OUTPUT IN FILE vanadium.dat.\n",
      "\n",
      "RUN 000024 COMPLETED. OUTPUT IN FILE chromium.dat.\n",
      "\n",
      "RUN 000025 COMPLETED. OUTPUT IN FILE manganese.dat.\n",
      "\n",
      "RUN 000026 COMPLETED. OUTPUT IN FILE iron.dat.\n",
      "\n",
      "RUN 000027 COMPLETED. OUTPUT IN FILE cobalt.dat.\n",
      "\n",
      "RUN 000028 COMPLETED. OUTPUT IN FILE nickel.dat.\n",
      "\n",
      "RUN 000029 COMPLETED. OUTPUT IN FILE copper.dat.\n",
      "\n",
      "RUN 000030 COMPLETED. OUTPUT IN FILE zinc.dat.\n",
      "\n",
      "RUN 000031 COMPLETED. OUTPUT IN FILE gallium.dat.\n",
      "\n",
      "RUN 000032 COMPLETED. OUTPUT IN FILE germanium.dat.\n",
      "\n",
      "RUN 000033 COMPLETED. OUTPUT IN FILE arsenic.dat.\n",
      "\n",
      "RUN 000034 COMPLETED. OUTPUT IN FILE selenium.dat.\n",
      "\n",
      "RUN 000035 COMPLETED. OUTPUT IN FILE bromine.dat.\n",
      "\n",
      "RUN 000036 COMPLETED. OUTPUT IN FILE krypton.dat.\n",
      "\n",
      "RUN 000037 COMPLETED. OUTPUT IN FILE rubidium.dat.\n",
      "\n",
      "RUN 000038 COMPLETED. OUTPUT IN FILE strontium.dat.\n",
      "\n",
      "RUN 000049 COMPLETED. OUTPUT IN FILE indium.dat.\n",
      "\n",
      "RUN 000050 COMPLETED. OUTPUT IN FILE tin.dat.\n",
      "\n",
      "RUN 000051 COMPLETED. OUTPUT IN FILE antimony.dat.\n",
      "\n",
      "RUN 000052 COMPLETED. OUTPUT IN FILE tellurium.dat.\n",
      "\n",
      "RUN 000053 COMPLETED. OUTPUT IN FILE iodine.dat.\n",
      "\n",
      "RUN 000054 COMPLETED. OUTPUT IN FILE xenon.dat.\n",
      "\n",
      "RUN 000055 COMPLETED. OUTPUT IN FILE caesium.dat.\n",
      "\n",
      "RUN 000056 COMPLETED. OUTPUT IN FILE barium.dat.\n",
      "\n",
      "RUN 000081 COMPLETED. OUTPUT IN FILE thallium.dat.\n",
      "\n",
      "RUN 000082 COMPLETED. OUTPUT IN FILE lead.dat.\n",
      "\n",
      "RUN 000083 COMPLETED. OUTPUT IN FILE bismuth.dat.\n",
      "\n",
      "RUN 000084 COMPLETED. OUTPUT IN FILE polonium.dat.\n",
      "\n",
      "RUN 000085 COMPLETED. OUTPUT IN FILE astatine.dat.\n",
      "\n",
      "RUN 000086 COMPLETED. OUTPUT IN FILE radon.dat.\n",
      "\n",
      "RUN 000087 COMPLETED. OUTPUT IN FILE francium.dat.\n",
      "\n",
      "RUN 000088 COMPLETED. OUTPUT IN FILE radium.dat.\n"
     ]
    }
   ],
   "source": [
    "import re\n",
    "\n",
    "pattern = re.compile('RUN \\d{6} COMPLETED. OUTPUT IN FILE \\w+.dat.$')\n",
    "\n",
    "with open('atoms.txt') as atoms:\n",
    "    for line in atoms:\n",
    "        if re.match(pattern, line):\n",
    "            print(line)\n",
    "        #if ...:\n",
    "        #    print(line)"
   ]
  },
  {
   "cell_type": "markdown",
   "metadata": {},
   "source": [
    "### Zadanie 3 - Regexy"
   ]
  },
  {
   "cell_type": "markdown",
   "metadata": {},
   "source": [
    "_Messages_\n",
    "\n",
    "Napisz program który wypisze linie z logu systemowego \"messages.txt\" które zawierają informacje o nieprawidłowej nazwie użytkownika (invalid user)"
   ]
  },
  {
   "cell_type": "code",
   "execution_count": 2,
   "metadata": {
    "ExecuteTime": {
     "end_time": "2023-12-01T10:56:06.481774Z",
     "start_time": "2023-12-01T10:56:06.460351100Z"
    }
   },
   "outputs": [
    {
     "ename": "PermissionError",
     "evalue": "[Errno 13] Permission denied: 'e:\\\\github\\\\python_tutorial\\\\lab7_files\\\\messages.txt'",
     "output_type": "error",
     "traceback": [
      "\u001B[1;31m---------------------------------------------------------------------------\u001B[0m",
      "\u001B[1;31mPermissionError\u001B[0m                           Traceback (most recent call last)",
      "Cell \u001B[1;32mIn[2], line 6\u001B[0m\n\u001B[0;32m      3\u001B[0m \u001B[38;5;28;01mdef\u001B[39;00m \u001B[38;5;21mtranslate\u001B[39m(text):\n\u001B[0;32m      4\u001B[0m     \u001B[38;5;28;01mreturn\u001B[39;00m \u001B[38;5;124m'\u001B[39m\u001B[38;5;124mNiepoprawna nazwa uzytkownika: \u001B[39m\u001B[38;5;124m'\u001B[39m \u001B[38;5;241m+\u001B[39m text\u001B[38;5;241m.\u001B[39mgroup(\u001B[38;5;241m4\u001B[39m) \u001B[38;5;241m+\u001B[39m \u001B[38;5;124m'\u001B[39m\u001B[38;5;124m\"\u001B[39m\u001B[38;5;124m, polaczenie z \u001B[39m\u001B[38;5;124m'\u001B[39m \u001B[38;5;241m+\u001B[39m text\u001B[38;5;241m.\u001B[39mgroup(\u001B[38;5;241m5\u001B[39m)\n\u001B[1;32m----> 6\u001B[0m \u001B[38;5;28;01mwith\u001B[39;00m \u001B[38;5;28mopen\u001B[39m(\u001B[38;5;124mr\u001B[39m\u001B[38;5;124m'\u001B[39m\u001B[38;5;124me:\u001B[39m\u001B[38;5;124m\\\u001B[39m\u001B[38;5;124mgithub\u001B[39m\u001B[38;5;124m\\\u001B[39m\u001B[38;5;124mpython_tutorial\u001B[39m\u001B[38;5;124m\\\u001B[39m\u001B[38;5;124mlab7_files\u001B[39m\u001B[38;5;124m\\\u001B[39m\u001B[38;5;124mmessages.txt\u001B[39m\u001B[38;5;124m'\u001B[39m) \u001B[38;5;28;01mas\u001B[39;00m messages:\n\u001B[0;32m      7\u001B[0m     \u001B[38;5;28;01mfor\u001B[39;00m line \u001B[38;5;129;01min\u001B[39;00m messages:\n\u001B[0;32m      8\u001B[0m         m \u001B[38;5;241m=\u001B[39m re\u001B[38;5;241m.\u001B[39msearch(pattern, line)\n",
      "File \u001B[1;32m~\\miniconda3\\Lib\\site-packages\\IPython\\core\\interactiveshell.py:286\u001B[0m, in \u001B[0;36m_modified_open\u001B[1;34m(file, *args, **kwargs)\u001B[0m\n\u001B[0;32m    279\u001B[0m \u001B[38;5;28;01mif\u001B[39;00m file \u001B[38;5;129;01min\u001B[39;00m {\u001B[38;5;241m0\u001B[39m, \u001B[38;5;241m1\u001B[39m, \u001B[38;5;241m2\u001B[39m}:\n\u001B[0;32m    280\u001B[0m     \u001B[38;5;28;01mraise\u001B[39;00m \u001B[38;5;167;01mValueError\u001B[39;00m(\n\u001B[0;32m    281\u001B[0m         \u001B[38;5;124mf\u001B[39m\u001B[38;5;124m\"\u001B[39m\u001B[38;5;124mIPython won\u001B[39m\u001B[38;5;124m'\u001B[39m\u001B[38;5;124mt let you open fd=\u001B[39m\u001B[38;5;132;01m{\u001B[39;00mfile\u001B[38;5;132;01m}\u001B[39;00m\u001B[38;5;124m by default \u001B[39m\u001B[38;5;124m\"\u001B[39m\n\u001B[0;32m    282\u001B[0m         \u001B[38;5;124m\"\u001B[39m\u001B[38;5;124mas it is likely to crash IPython. If you know what you are doing, \u001B[39m\u001B[38;5;124m\"\u001B[39m\n\u001B[0;32m    283\u001B[0m         \u001B[38;5;124m\"\u001B[39m\u001B[38;5;124myou can use builtins\u001B[39m\u001B[38;5;124m'\u001B[39m\u001B[38;5;124m open.\u001B[39m\u001B[38;5;124m\"\u001B[39m\n\u001B[0;32m    284\u001B[0m     )\n\u001B[1;32m--> 286\u001B[0m \u001B[38;5;28;01mreturn\u001B[39;00m io_open(file, \u001B[38;5;241m*\u001B[39margs, \u001B[38;5;241m*\u001B[39m\u001B[38;5;241m*\u001B[39mkwargs)\n",
      "\u001B[1;31mPermissionError\u001B[0m: [Errno 13] Permission denied: 'e:\\\\github\\\\python_tutorial\\\\lab7_files\\\\messages.txt'"
     ]
    }
   ],
   "source": [
    "pattern = re.compile(\"(\\w{3}) (\\d{2}) (\\d{2}:\\d{2}):\\d{2} .* user (.*) from (\\d{3}\\.\\d{3}\\.\\d{3}\\.\\d{3})\")\n",
    "\n",
    "def translate(text):\n",
    "    return 'Niepoprawna nazwa uzytkownika: ' + text.group(4) + '\", polaczenie z ' + text.group(5)\n",
    "\n",
    "with open(r'e:\\github\\python_tutorial\\lab7_files\\messages.txt') as messages:\n",
    "    for line in messages:\n",
    "        m = re.search(pattern, line)\n",
    "        if m:\n",
    "            print(translate(m))"
   ]
  },
  {
   "cell_type": "markdown",
   "metadata": {},
   "source": [
    "Przerób program tak, żeby wyświetlał sformatowane komunikaty, tzn.\n",
    "```\n",
    "Jun 29 20:18:40 noether sshd[5805]: Invalid user tester from 218.189.194.200\n",
    "```\n",
    "powinno zostać przerobione na\n",
    "```\n",
    "Niepoprawna nazwa użytkownika: \"tester\", połaczenie z 218.189.194.200 nawiązano 29 czerwca o godz. 20:18\n",
    "```"
   ]
  },
  {
   "cell_type": "markdown",
   "metadata": {},
   "source": [
    "### Zadanie 4 - Collections\n",
    "Uzupenij ponizsze funckje korzystajac z zaimporotwanych klas"
   ]
  },
  {
   "cell_type": "code",
   "execution_count": 3,
   "metadata": {
    "ExecuteTime": {
     "end_time": "2023-12-01T10:56:11.135043900Z",
     "start_time": "2023-12-01T10:56:11.132525400Z"
    }
   },
   "outputs": [
    {
     "name": "stdout",
     "output_type": "stream",
     "text": [
      "True\n",
      "True\n",
      "True\n"
     ]
    }
   ],
   "source": [
    "from collections import defaultdict\n",
    "\n",
    "def count_letters(word):\n",
    "    \"\"\" Zwraca slownik gdzie kluczami sa litery, a wartosci ilosc ich wystepowania \"\"\"\n",
    "    output = defaultdict(int)\n",
    "    for letter in word:\n",
    "        output[letter] += 1\n",
    "        \n",
    "    return output\n",
    "\n",
    "\n",
    "print(count_letters('aaaaa') == {'a': 5})\n",
    "print(count_letters('abbccaaaa') == {'a': 5, 'b': 2, 'c': 2})\n",
    "print(count_letters('abc') == {'a': 1, 'b': 1, 'c': 1})"
   ]
  },
  {
   "cell_type": "code",
   "execution_count": 4,
   "metadata": {
    "ExecuteTime": {
     "end_time": "2023-12-01T10:56:12.185527500Z",
     "start_time": "2023-12-01T10:56:12.182499Z"
    }
   },
   "outputs": [
    {
     "name": "stdout",
     "output_type": "stream",
     "text": [
      "True\n",
      "True\n",
      "True\n"
     ]
    }
   ],
   "source": [
    "def group_words_by_first_letter(text):\n",
    "    \"\"\" Dzieli tekst po spacjach i zwraca slownik gdzie kluczami sa pierwsze litery, a wartosciami listy slow zaczynajacych sie na te litery\"\"\"\n",
    "    output = defaultdict(list)\n",
    "    for splitted in text.split():\n",
    "        output[splitted[0]].append(splitted)\n",
    "    return output\n",
    "\n",
    "print(group_words_by_first_letter(\"ala ma kota\") == {'a': ['ala'], 'm': ['ma'], 'k': ['kota']})\n",
    "print(group_words_by_first_letter(\"ala ma kota ala ma psa\") == {'a': ['ala', 'ala'], 'm': ['ma', 'ma'], 'k': ['kota'], 'p': ['psa']})   \n",
    "print(group_words_by_first_letter(\"ala ma kota ale marysia ma konia\") == {'a': ['ala', 'ale'], 'm': ['ma', 'marysia', 'ma'], 'k': ['kota', 'konia']})"
   ]
  },
  {
   "cell_type": "markdown",
   "metadata": {},
   "source": [
    "### Zadanie 5 - Klasy\n",
    "Uzupełnij brakujące metody poniższej klasy."
   ]
  },
  {
   "cell_type": "code",
   "execution_count": 5,
   "metadata": {
    "ExecuteTime": {
     "end_time": "2023-12-01T10:56:13.218450700Z",
     "start_time": "2023-12-01T10:56:13.215970400Z"
    }
   },
   "outputs": [
    {
     "name": "stdout",
     "output_type": "stream",
     "text": [
      "True\n",
      "True\n",
      "True\n",
      "True\n",
      "True\n",
      "True\n",
      "True\n",
      "True\n",
      "{{'ala': 4}, {'ala': 2}, {'ala': 1, 'jacek': 0}}\n"
     ]
    }
   ],
   "source": [
    "class FrozenDictionary(object):\n",
    "    \"\"\"\n",
    "    Odpowiednik frozenset dla zbiorów, czyli słownik, który nie jest modyfikowalny,\n",
    "    a dzięki temu może być np. elementem zbiorów, albo kluczem w innym słowniku.\n",
    "    \"\"\"\n",
    "    \n",
    "    def __init__(self, dictionary):\n",
    "        \"\"\"Tworzy nowy zamrożony słownik z podanego słownika\"\"\"\n",
    "        self.dict = dictionary.copy()\n",
    "    \n",
    "    def __hash__(self):\n",
    "        \"\"\"Zwraca hasz słownika (int)\"\"\"\n",
    "        return hash(frozenset(self.dict.items()))    \n",
    "    \n",
    "    def __eq__(self, d):\n",
    "        \"\"\"Porównuje nasz słownik z zamrożonym słownikiem d\"\"\"\n",
    "        return self.dict == d\n",
    "    \n",
    "    def __repr__(self):\n",
    "        \"\"\"Zwraca reprezentację naszego słownika jako string\"\"\"\n",
    "        return self.dict.__repr__()\n",
    "        \n",
    "dicts = [FrozenDictionary({'ala': 4}), \n",
    "         FrozenDictionary({'ala': 1, 'jacek': 0}),\n",
    "         FrozenDictionary({'ala': 4}), \n",
    "         FrozenDictionary({'ala': 2}), \n",
    "         FrozenDictionary({'jacek': 0, 'ala': 1})]\n",
    "\n",
    "s = set(dicts)\n",
    "print(dicts[0] == dicts[2])\n",
    "print(dicts[0] != dicts[3])\n",
    "print(len(s) == 3)\n",
    "for d in dicts:\n",
    "    print(d in s)\n",
    "\n",
    "# Powinno wyświetlić coś w stylu set([{'ala': 4}, {'ala': 1, 'jacek': 0}, {'ala': 2}])\n",
    "print(s)"
   ]
  },
  {
   "cell_type": "markdown",
   "metadata": {},
   "source": [
    "### Zadanie 6 - Bag of Words\n",
    "Napisz klasę \"Bag of words\", która będzie \"workiem słów\" z zadanego dokumentu. Oznacza to, że ma w sobie przechowywać informacje o tym ile razy każde słowo wystąpiło w dokumencie. Dodatkowo ma udostępniać następującą funkcjonalność:\n",
    "* Można utworzyć go na dwa sposoby:\n",
    "```\n",
    "bow = BagOfWords(\"ala ma kota ala ma ala\")\n",
    "bow = BagOfWords(open(\"plik.txt\"))\n",
    "```\n",
    "* Możliwość wyświetlania go po prostu pisząc print(bow) (kolejność taka sama jak przy przeglądaniu forem)\n",
    "```\n",
    "ala:3, ma:2, kota:1\n",
    "```\n",
    "* Sprawdzanie czy jakieś słowo należy do naszego worka pisząc\n",
    "```\n",
    "if 'ala' in bow:\n",
    "    ...\n",
    "```\n",
    "* Przeglądanie słów w worku od najczęściej do najrzadziej występującego, czyli\n",
    "```\n",
    "for word in bow:\n",
    "  print(word)\n",
    "```\n",
    "    powinniśmy zobaczyć\n",
    "```\n",
    "ala\n",
    "ma\n",
    "kota\n",
    "```\n",
    "* Możliwość dodawania dwóch worków, pisząc\n",
    "```\n",
    "bow1 = BagOfWords(\"ala ma kota ala ma ala\")\n",
    "bow2 = BagOfWords(\"tomek tez ma kota\")\n",
    "bow3 = bow1 + bow2\n",
    "print('tomek' in bow1) # False\n",
    "print('tomek' in bow3) # True\n",
    "print('ala' in bow3) # True\n",
    "print(bow3) # ala:3, ma:3, kota:2, tez:1, tomek:1\n",
    "    ```\n",
    "* Odczytywanie częstości wystąpień słów poprzez nawiasy kwadratowe\n",
    "```\n",
    "print(bow1[\"ala\"]) # 3\n",
    "print(bow3[\"ala\"]) # 3\n",
    "```\n",
    "* Aktualizację cześtości wystąpień\n",
    "```\n",
    "bow3['tomek'] = 10\n",
    "for el in bow3:\n",
    "    print el\n",
    "```\n",
    "    powinno wyświetlić najpierw `tomek`"
   ]
  },
  {
   "cell_type": "code",
   "execution_count": 6,
   "metadata": {
    "collapsed": true,
    "ExecuteTime": {
     "end_time": "2023-12-01T10:56:14.889649600Z",
     "start_time": "2023-12-01T10:56:14.864911300Z"
    }
   },
   "outputs": [
    {
     "name": "stdout",
     "output_type": "stream",
     "text": [
      "ala: 3, ma: 2, kota: 1, \n",
      "ala: 1, \n",
      "dict_items([('ala', 4), ('ma', 2), ('kota', 1)])\n",
      "('ala', 3)\n",
      "('ma', 2)\n",
      "('kota', 1)\n"
     ]
    }
   ],
   "source": [
    "from io import TextIOWrapper\n",
    "from collections import defaultdict\n",
    "\n",
    "\n",
    "class BagOfWords:\n",
    "    \n",
    "    def __init__(self, arg = \"\"):\n",
    "        self.dictionary = defaultdict(int)\n",
    "        \n",
    "        if  isinstance(arg, str):\n",
    "            for word in arg.split():\n",
    "                self.dictionary[word]+=1\n",
    "        elif isinstance(arg, TextIOWrapper):\n",
    "            for line in arg:\n",
    "                for word in line.split():\n",
    "                    self.dictionary[word]+=1\n",
    "    def __repr__(self):\n",
    "        result = \"\"\n",
    "        for item in self.dictionary.items():\n",
    "            result += f\"{item[0]}: {item[1]}, \"\n",
    "        return result\n",
    "    \n",
    "    def __getitem__(self, item):\n",
    "        return self.dictionary[item]\n",
    "    def __setitem__(self, key, value):\n",
    "        self.dictionary[key] = value\n",
    "    def __iter__(self):\n",
    "        sorted_dict = sorted(self.dictionary.items(), key = lambda item: item[1], reverse=True)\n",
    "        for item in sorted_dict:\n",
    "            yield item\n",
    "        return\n",
    "    def __add__(self, other):\n",
    "        new_bag = self.dictionary.copy()\n",
    "        for (key, value) in other:\n",
    "            new_bag[key] += other[key]\n",
    "        return new_bag\n",
    "            \n",
    "    def getSorted(self):\n",
    "        return sorted(self.dictionary.items(), key = lambda item: item[1], reverse=True)\n",
    "            \n",
    "bag = BagOfWords(\"ala ma kota ala ma ala\")\n",
    "bag2 = BagOfWords(\"ala\")\n",
    "print(bag)\n",
    "print(bag2)\n",
    "print((bag+bag2).items())\n",
    "#print(bag.getSorted())\n",
    "for word in bag:\n",
    "    print(word)"
   ]
  },
  {
   "cell_type": "code",
   "execution_count": null,
   "outputs": [],
   "source": [],
   "metadata": {
    "collapsed": false
   }
  }
 ],
 "metadata": {
  "kernelspec": {
   "display_name": "Python 3",
   "language": "python",
   "name": "python3"
  },
  "language_info": {
   "codemirror_mode": {
    "name": "ipython",
    "version": 3
   },
   "file_extension": ".py",
   "mimetype": "text/x-python",
   "name": "python",
   "nbconvert_exporter": "python",
   "pygments_lexer": "ipython3",
   "version": "3.7.9"
  }
 },
 "nbformat": 4,
 "nbformat_minor": 2
}

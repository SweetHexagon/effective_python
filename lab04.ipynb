{
 "cells": [
  {
   "cell_type": "markdown",
   "metadata": {},
   "source": [
    "## Lab 04"
   ]
  },
  {
   "cell_type": "markdown",
   "metadata": {},
   "source": [
    "## Zadanie 1 (Igor Sieradzki)"
   ]
  },
  {
   "cell_type": "markdown",
   "metadata": {},
   "source": [
    "Funkcja <t>flow_rate</i> do modyfikacji"
   ]
  },
  {
   "cell_type": "code",
   "execution_count": 148,
   "metadata": {
    "collapsed": true,
    "ExecuteTime": {
     "end_time": "2023-11-08T12:43:46.593402Z",
     "start_time": "2023-11-08T12:43:46.478258Z"
    }
   },
   "outputs": [],
   "source": [
    "def flow_rate(weight, time,  period = 1, units_per_kg = 1):\n",
    "    \"\"\" Funkcja wylicza ile wagi produktu przybyło/ubyło w jednostce czasu \"\"\"\n",
    "    return (weight / time) * period * units_per_kg\n",
    "\n",
    "weight = 0.5\n",
    "time = 3"
   ]
  },
  {
   "cell_type": "code",
   "execution_count": 149,
   "metadata": {
    "collapsed": true,
    "ExecuteTime": {
     "end_time": "2023-11-08T12:43:46.618230Z",
     "start_time": "2023-11-08T12:43:46.479272Z"
    }
   },
   "outputs": [
    {
     "name": "stdout",
     "output_type": "stream",
     "text": [
      "0.167 kg per second\n"
     ]
    }
   ],
   "source": [
    "flow = flow_rate(weight, time)\n",
    "print(\"{0:.3} kg per second\".format(flow))"
   ]
  },
  {
   "cell_type": "markdown",
   "source": [
    "Zmodyfikuj funckje <i>flow_rate</i> tak, aby poniższe wywołania działały poprawnie."
   ],
   "metadata": {
    "collapsed": false
   }
  },
  {
   "cell_type": "code",
   "execution_count": 150,
   "metadata": {
    "collapsed": true,
    "ExecuteTime": {
     "end_time": "2023-11-08T12:43:46.618448Z",
     "start_time": "2023-11-08T12:43:46.482683Z"
    }
   },
   "outputs": [
    {
     "name": "stdout",
     "output_type": "stream",
     "text": [
      "10000.0 grams per minute\n"
     ]
    }
   ],
   "source": [
    "flow = flow_rate(weight, time, period=60, units_per_kg=1000)\n",
    "print(\"{} grams per minute\".format(flow))"
   ]
  },
  {
   "cell_type": "code",
   "execution_count": 151,
   "metadata": {
    "collapsed": true,
    "ExecuteTime": {
     "end_time": "2023-11-08T12:43:46.619916Z",
     "start_time": "2023-11-08T12:43:46.485784Z"
    }
   },
   "outputs": [
    {
     "name": "stdout",
     "output_type": "stream",
     "text": [
      "0.167 kg per second\n"
     ]
    }
   ],
   "source": [
    "flow = flow_rate(weight, time, period=1, units_per_kg=1)\n",
    "print(\"{0:.3} kg per second\".format(flow))"
   ]
  },
  {
   "cell_type": "code",
   "execution_count": 152,
   "metadata": {
    "collapsed": true,
    "ExecuteTime": {
     "end_time": "2023-11-08T12:43:46.621327Z",
     "start_time": "2023-11-08T12:43:46.489472Z"
    }
   },
   "outputs": [
    {
     "name": "stdout",
     "output_type": "stream",
     "text": [
      "0.167 grams per minute\n"
     ]
    }
   ],
   "source": [
    "flow = flow_rate(weight, time)\n",
    "print(\"{0:.3} grams per minute\".format(flow))"
   ]
  },
  {
   "cell_type": "markdown",
   "metadata": {},
   "source": [
    "Wyjaśnić czemu poniższe rzucanie błędu jest porządane"
   ]
  },
  {
   "cell_type": "code",
   "execution_count": 153,
   "metadata": {
    "collapsed": true,
    "ExecuteTime": {
     "end_time": "2023-11-08T12:43:46.621398Z",
     "start_time": "2023-11-08T12:43:46.492744Z"
    }
   },
   "outputs": [],
   "source": [
    "try:\n",
    "    flow = flow_rate(weight, time, 3600, 2.2)\n",
    "except TypeError:\n",
    "    print(True)"
   ]
  },
  {
   "cell_type": "markdown",
   "metadata": {},
   "source": [
    "## Zadanie 2 (Igor Sieradzki)"
   ]
  },
  {
   "cell_type": "markdown",
   "metadata": {},
   "source": [
    "Dopisz definicje dekoratora _timeit_, który wypisze na wyjscie standardowe czas wywołania udekorowanej funckji np.\n",
    "\n",
    "```\n",
    "@timeit\n",
    "def foo(x):\n",
    "    return x**2\n",
    "    \n",
    "r = foo(2)\n",
    "```\n",
    "wypize: <br>\n",
    "    `Function foo took: 0.00001 seconds` <br>\n",
    "oraz zwróci 4"
   ]
  },
  {
   "cell_type": "code",
   "execution_count": 154,
   "metadata": {
    "collapsed": true,
    "ExecuteTime": {
     "end_time": "2023-11-08T12:43:46.735492Z",
     "start_time": "2023-11-08T12:43:46.543397Z"
    }
   },
   "outputs": [
    {
     "name": "stdout",
     "output_type": "stream",
     "text": [
      "Function squares_list took: 0.05292987823486328 seconds\n",
      "Function squares_comprehension took: 0.05427098274230957 seconds\n",
      "Function squares_map took: 1.0013580322265625e-05 seconds\n"
     ]
    }
   ],
   "source": [
    "from time import time\n",
    "\n",
    "def timeit(func):\n",
    "    def wrapper(*args, **kwargs):\n",
    "        start_time = time()\n",
    "        result = func(*args, **kwargs)\n",
    "        end_time = time()\n",
    "        elapsed_time = end_time - start_time\n",
    "        print(f\"Function {func.__name__} took: {elapsed_time} seconds\")\n",
    "        return result\n",
    "    return wrapper\n",
    "\n",
    "@timeit\n",
    "def squares_list(n):\n",
    "    squares = []\n",
    "    for i in range(n):\n",
    "        squares.append(i ** 2)\n",
    "    return squares\n",
    "\n",
    "@timeit\n",
    "def squares_comprehension(n):\n",
    "    return [i ** 2 for i in range(n)]\n",
    "\n",
    "@timeit\n",
    "def squares_map(n):\n",
    "    return map(lambda x: x**2, range(n))\n",
    "\n",
    "n = 1000000\n",
    "l = squares_list(n)\n",
    "c = squares_comprehension(n)\n",
    "m = squares_map(n)"
   ]
  },
  {
   "cell_type": "markdown",
   "metadata": {},
   "source": [
    "## Zadanie 3 (Igor Sieradzki)"
   ]
  },
  {
   "cell_type": "markdown",
   "metadata": {},
   "source": [
    "Dopisz definicje dekoratora _derivate_ wg. instrukcji w _docstringu_"
   ]
  },
  {
   "cell_type": "code",
   "execution_count": 155,
   "metadata": {
    "collapsed": true,
    "ExecuteTime": {
     "end_time": "2023-11-08T12:43:46.736184Z",
     "start_time": "2023-11-08T12:43:46.670041Z"
    }
   },
   "outputs": [
    {
     "name": "stdout",
     "output_type": "stream",
     "text": [
      "True\n",
      "True\n",
      "True\n",
      "True\n",
      "987.7897679136368 987.7797679144635 \t True\n",
      "731781.6644906997 731781.6524258635 \t True\n",
      "1996.0805469425395 1996.0705469397235 \t True\n",
      "2988223.242759704 2988223.221270185 \t True\n",
      "1758.746815752238 1758.736815750577 \t True\n",
      "2319866.418838501 2319866.3903073594 \t True\n",
      "1294.7138824150898 1294.7038824194487 \t True\n",
      "1257193.6249732971 1257193.6073639954 \t True\n",
      "1050.5624315643217 1050.5524315678524 \t True\n",
      "827745.3213930129 827745.3086048455 \t True\n",
      "474.60573382049915 474.59573382093544 \t True\n",
      "168930.8401197195 168930.83292077415 \t True\n",
      "63.34542166553092 63.33542166551598 \t True\n",
      "3008.53267799539 3008.5317281615335 \t True\n",
      "1531.4012987422757 1531.3912987383019 \t True\n",
      "1758869.5049285886 1758869.4823885371 \t False\n",
      "1542.2550856834278 1542.2450856827022 \t True\n",
      "1783889.9493217466 1783889.928234334 \t True\n",
      "1023.6582229146734 1023.6482229169643 \t True\n",
      "785891.7757868766 785891.7632107943 \t True\n",
      "432.5320410258428 432.5220410257935 \t True\n",
      "140306.49345368147 140306.48697983864 \t True\n",
      "1313.98457136238 1313.9745713644647 \t True\n",
      "1294896.900653839 1294896.8806443217 \t True\n",
      "1260.092777578393 1260.082777581402 \t True\n",
      "1190856.471657753 1190856.454767946 \t True\n",
      "1156.1649958021007 1156.1549958033866 \t True\n",
      "1002520.7966566085 1002520.7807408465 \t True\n",
      "443.78385565578355 443.77385565587747 \t True\n",
      "147701.43292844296 147701.42622276268 \t True\n",
      "1489.8811421706341 1489.8711421750234 \t True\n",
      "1664787.0302200315 1664787.0152144316 \t True\n",
      "1885.087763343472 1885.077763346491 \t True\n",
      "2665138.6499404907 2665138.6303975573 \t True\n",
      "58.241218828391084 58.231218828387114 \t True\n",
      "2543.157008039998 2543.1561346796298 \t True\n",
      "1325.6918934930582 1325.681893494328 \t True\n",
      "1318074.3753910065 1318074.3620540302 \t True\n",
      "1721.0609731497243 1721.0509731514715 \t True\n",
      "2221512.3534202576 2221512.3391392203 \t True\n"
     ]
    }
   ],
   "source": [
    "import sys\n",
    "sys.float_info.epsilon  # epsilon maszynowy\n",
    "\n",
    "\n",
    "def derivate(epsilon=None):\n",
    "    if epsilon is None:\n",
    "        epsilon = sys.float_info.epsilon * 1000\n",
    "        \n",
    "    def dekorator(func):\n",
    "        def wrapper(x):\n",
    "            return (func(x + epsilon) - func(x)) / epsilon\n",
    "        return wrapper\n",
    "    \n",
    "    return dekorator\n",
    "    \n",
    "    \n",
    "    \"\"\"\n",
    "    Zwraca pochodną funkcji w punkcie, wg. wzoru f'(x) = [f(x+h) - f(x)]/h, \n",
    "    gdzie h jest parametrem dekoratora, jeśli nie zostanie podany, należy przyjąć 1000 * epsilon maszynowy\n",
    "    \"\"\"\n",
    "    \n",
    "\n",
    "\n",
    "@derivate(0.01)\n",
    "def f(x):\n",
    "    return x*x\n",
    "\n",
    "@derivate(0.00001)\n",
    "def g(x):\n",
    "    return x*x*x+3\n",
    "\n",
    "def test(a, b, eps=1):\n",
    "    return abs(round(a)-round(b)) < eps\n",
    "\n",
    "print(test(f(100), 200.0))\n",
    "print(round(f(0)) == 0.0)\n",
    "\n",
    "print(test(g(100), 30000.0))\n",
    "print(round(g(0)) == 0.0)\n",
    "\n",
    "from random import random\n",
    "for x in [random()*1000. for _ in range(20)]:\n",
    "    print(f(x), 2*x, '\\t', test(f(x), 2*x))\n",
    "    print(g(x), 3*x**2, '\\t', test(g(x), 3*x**2))"
   ]
  },
  {
   "cell_type": "markdown",
   "metadata": {},
   "source": [
    "## Zadanie 4 (Igor Sieradzki)"
   ]
  },
  {
   "cell_type": "markdown",
   "metadata": {},
   "source": [
    "Dopisz definicje dekoratora _accepts_ wg. instrukcji w _docstringu_"
   ]
  },
  {
   "cell_type": "code",
   "execution_count": 156,
   "metadata": {
    "collapsed": true,
    "ExecuteTime": {
     "end_time": "2023-11-08T12:43:46.736386Z",
     "start_time": "2023-11-08T12:43:46.676935Z"
    }
   },
   "outputs": [
    {
     "name": "stdout",
     "output_type": "stream",
     "text": [
      "True\n",
      "True\n",
      "True\n",
      "True\n",
      "True\n",
      "True\n",
      "True\n"
     ]
    }
   ],
   "source": [
    "def accepts(*types):\n",
    "    def dekorator(func):\n",
    "        def wrapper(*args, **kwargs):\n",
    "            if not all(isinstance(x, y) for x, y in zip(args, types)):\n",
    "                raise TypeError\n",
    "            if not all(isinstance(kwargs[kwarg_type], type) for kwarg_type, type in zip(kwargs.keys(), types[len(args):])):\n",
    "                raise TypeError\n",
    "            \n",
    "            return func(*args,**kwargs)\n",
    "\n",
    "        return wrapper\n",
    "    \n",
    "    return dekorator\n",
    "            \n",
    "    \"\"\"Sprawdza czy udekorowanej funckji zostały podane odpowiednie parametry zdefiniowane \n",
    "       w argumentach dekoratora\"\"\"\n",
    "    \n",
    "\n",
    "\n",
    "@accepts(str)\n",
    "def capitalize(word):\n",
    "    return word[0].upper() + word[1:]\n",
    "\n",
    "print(capitalize('ola') == 'Ola')\n",
    "\n",
    "try:\n",
    "    capitalize(2)\n",
    "except TypeError:\n",
    "    print(True)\n",
    "\n",
    "@accepts(float, int)\n",
    "def static_pow(base, exp):\n",
    "    return base ** exp \n",
    "\n",
    "print(static_pow(2., 2) == 4.)\n",
    "print(static_pow(2., exp=2) == 4.)\n",
    "print(static_pow(base=2., exp=2) == 4.)\n",
    "\n",
    "try:\n",
    "    static_pow('x', 10)\n",
    "except TypeError:\n",
    "    print(True)\n",
    "    \n",
    "try:\n",
    "    static_pow(2, 2.2)\n",
    "except TypeError:\n",
    "    print(True)"
   ]
  },
  {
   "cell_type": "markdown",
   "metadata": {},
   "source": [
    "## Zadanie 5 (Igor Sieradzki)"
   ]
  },
  {
   "cell_type": "markdown",
   "metadata": {},
   "source": [
    "Dopisz definicje dekoratora _returns_ wg. instrukcji w _docstringu_"
   ]
  },
  {
   "cell_type": "code",
   "execution_count": 157,
   "metadata": {
    "collapsed": true,
    "ExecuteTime": {
     "end_time": "2023-11-08T12:43:46.736611Z",
     "start_time": "2023-11-08T12:43:46.684093Z"
    }
   },
   "outputs": [
    {
     "name": "stdout",
     "output_type": "stream",
     "text": [
      "True\n",
      "True\n",
      "True\n",
      "True\n"
     ]
    }
   ],
   "source": [
    "from re import split\n",
    "\n",
    "\n",
    "def returns(*types):\n",
    "     def dekorator(func):\n",
    "        def wrapper(*args, **kwargs):\n",
    "            result = func(*args, **kwargs)\n",
    "            if all(isinstance(result_type, type) for result_type,type in zip(result, types)):\n",
    "                return result\n",
    "            else:\n",
    "                return False\n",
    "        return wrapper\n",
    "    \n",
    "     return dekorator\n",
    "\n",
    "\n",
    "            \n",
    "@returns(str)\n",
    "def str_only_identity(word):\n",
    "    return word\n",
    "\n",
    "print(str_only_identity('hello') == 'hello')\n",
    "\n",
    "try:\n",
    "    str_only_identity(10)\n",
    "except TypeError:\n",
    "    print(True)\n",
    "    \n",
    "@returns(int, int)\n",
    "def split_indices(x):\n",
    "    return x[0], x[1]\n",
    "\n",
    "print(split_indices(x=[6,9]) == (6,9))\n",
    "\n",
    "try:\n",
    "    split('AB')\n",
    "except TypeError:\n",
    "    print(True)"
   ]
  },
  {
   "cell_type": "markdown",
   "metadata": {},
   "source": [
    "## Zadanie 6 (Igor Sieradzki)\n",
    "Stwórz dekorator cached służący do cachowania wywołań dowolnej funkcji, tzn. chcemy by:\n",
    "* wywołanie funkcji z określonymi argumentami miało miejsce tylko raz\n",
    "* funkcja mogła przyjmować dowolną liczbę nazwanych i nienazwanych argumentów\n",
    "* nie musi reagować poprawnie na domyślne argumenty, tzn. wywołanie funkcji z domyślnymi argumentami a podanie dokładnie takich samych może być traktowane jako dwa różne wywołania\n",
    "* na opakowanej funkcji można wywołać `.cache_reset()`, który usunie cache z pamięci\n",
    "* wywołanie `.cache_status()` zwraca string z opisem w postaci: <br>\n",
    "    `Function FUNCTION_NAME called X times, evaluated Y times`"
   ]
  },
  {
   "cell_type": "code",
   "execution_count": 158,
   "metadata": {
    "collapsed": true,
    "ExecuteTime": {
     "end_time": "2023-11-08T12:43:46.736849Z",
     "start_time": "2023-11-08T12:43:46.692661Z"
    }
   },
   "outputs": [
    {
     "name": "stdout",
     "output_type": "stream",
     "text": [
      "True\n",
      "True\n",
      "True\n",
      "True\n",
      "True\n",
      "True\n"
     ]
    }
   ],
   "source": [
    "from random import random\n",
    "\n",
    "def cached(func):\n",
    "    if not hasattr(cached, \"cache\"):\n",
    "        cached.cache = dict()\n",
    "        cached.meta = {\"called\": 0, \"evaluated\": 0}\n",
    "    def wrapper(*args, **kwargs):\n",
    "        params = (tuple(sorted(args)), tuple(sorted(dict(kwargs).items())))\n",
    "        cached.meta[\"called\"] += 1\n",
    "        if params in cached.cache:\n",
    "            return cached.cache[params]\n",
    "        else:\n",
    "            cached.meta[\"evaluated\"] += 1\n",
    "            result = func(*args, **kwargs)\n",
    "            cached.cache[params] = result\n",
    "            return result\n",
    "    \n",
    "    def cache_reset():\n",
    "        cached.cache = dict()\n",
    "\n",
    "    def cache_status():\n",
    "        calls = cached.meta[\"called\"]\n",
    "        evaluated = cached.meta[\"evaluated\"]\n",
    "        return f'Function {func.__name__} called {calls} times, evaluated {evaluated} times'\n",
    "\n",
    "    wrapper.cache_reset = cache_reset\n",
    "    wrapper.cache_status = cache_status\n",
    "    return wrapper\n",
    "\n",
    "\n",
    "@cached\n",
    "def foo(x, y=1, z=4):\n",
    "    return random()\n",
    "        \n",
    "print(foo(3) == foo(3))\n",
    "print(foo(4) == foo(4))\n",
    "print(foo(3, z=-1, y=3) == foo(3, y=3, z=-1))\n",
    "print(foo(3) != foo(x=3))\n",
    "a = foo(3)\n",
    "foo.cache_reset()\n",
    "print(a != foo(3))\n",
    "print(foo.cache_status() == 'Function foo called 10 times, evaluated 5 times')"
   ]
  },
  {
   "cell_type": "markdown",
   "metadata": {},
   "source": [
    "## Zadanie 7 (Krzysztof Hajto)"
   ]
  },
  {
   "cell_type": "markdown",
   "metadata": {},
   "source": [
    "Napisz dekorator który będzie robić n-krotne złożenie funkcji, gdzie n jest parametrem dekoratora"
   ]
  },
  {
   "cell_type": "code",
   "execution_count": 159,
   "metadata": {
    "collapsed": true,
    "ExecuteTime": {
     "end_time": "2023-11-08T12:43:46.737053Z",
     "start_time": "2023-11-08T12:43:46.698558Z"
    }
   },
   "outputs": [
    {
     "name": "stdout",
     "output_type": "stream",
     "text": [
      "True\n",
      "True\n",
      "True\n"
     ]
    }
   ],
   "source": [
    "def zlozenie(n):\n",
    "    def dekorator(func):\n",
    "        def wrapper(*args, **kwargs):\n",
    "            result = func(*args,**kwargs)\n",
    "            for i in range(n-1):\n",
    "                result = func(result)\n",
    "            return result\n",
    "        return wrapper\n",
    "    return dekorator               \n",
    "\n",
    "@zlozenie(3)\n",
    "def f1(x):\n",
    "    return x+1\n",
    "\n",
    "@zlozenie(2)\n",
    "def f2(x):\n",
    "    return x*x\n",
    "\n",
    "@zlozenie(5)\n",
    "def f3(word):\n",
    "    return \"\".join(chr(ord(l)+1) for l in word)\n",
    "\n",
    "print(f1(2)==5)\n",
    "print(f2(3)==81)\n",
    "print(f3(\"alamakota\")==\"fqfrfptyf\")"
   ]
  },
  {
   "cell_type": "markdown",
   "metadata": {},
   "source": [
    "## Zadanie 8 (Krzysztof Hajto)"
   ]
  },
  {
   "cell_type": "markdown",
   "metadata": {},
   "source": [
    "Python nie ma wbudowanej instrukcji switch. Ale posiada anonimowe funkcje oraz słowniki. Zaimplementuj poniższy switch w postaci słownika funkcji.\n",
    "`\n",
    "int my_function(x, y) {\n",
    "\n",
    "\n",
    "    switch(x) {\n",
    "        case 1: return y*y;\n",
    "        case 2: return x+y;\n",
    "        case 3: return x*y;\n",
    "        case 4: return 0;\n",
    "    }\n",
    "}\n",
    "`\n",
    "\n",
    "PS. Nigdy nie róbcie tego w faktycznym kodzie :)"
   ]
  },
  {
   "cell_type": "code",
   "execution_count": 160,
   "metadata": {
    "collapsed": true,
    "ExecuteTime": {
     "end_time": "2023-11-08T12:43:46.737167Z",
     "start_time": "2023-11-08T12:43:46.703502Z"
    }
   },
   "outputs": [
    {
     "name": "stdout",
     "output_type": "stream",
     "text": [
      "True\n",
      "True\n",
      "True\n",
      "True\n"
     ]
    }
   ],
   "source": [
    "\n",
    "def my_function(x, y):\n",
    "    \n",
    "    \n",
    "    def one(x,y):\n",
    "        return y*y\n",
    "    def two(x,y):\n",
    "        return x+y\n",
    "    def three(x,y):\n",
    "        return x*y\n",
    "    def four(x,y):\n",
    "        return 0\n",
    "    \n",
    "    dict = {1: one, 2: two, 3: three, 4: four}\n",
    "    \n",
    "    return dict[x](x,y)\n",
    "            \n",
    "\n",
    "print(my_function(1,3)==9)\n",
    "print(my_function(2,4)==6)\n",
    "print(my_function(3,1)==3)\n",
    "print(my_function(4,9)==0)"
   ]
  },
  {
   "cell_type": "code",
   "execution_count": 6,
   "outputs": [
    {
     "name": "stdout",
     "output_type": "stream",
     "text": [
      "[3, 1, 1]\n"
     ]
    },
    {
     "ename": "AssertionError",
     "evalue": "",
     "output_type": "error",
     "traceback": [
      "\u001B[0;31m---------------------------------------------------------------------------\u001B[0m",
      "\u001B[0;31mAssertionError\u001B[0m                            Traceback (most recent call last)",
      "Cell \u001B[0;32mIn[6], line 10\u001B[0m\n\u001B[1;32m      6\u001B[0m     \u001B[38;5;28mprint\u001B[39m([arr\u001B[38;5;241m.\u001B[39mcount(i) \u001B[38;5;28;01mfor\u001B[39;00m i \u001B[38;5;129;01min\u001B[39;00m \u001B[38;5;28mset\u001B[39m(arr)])\n\u001B[1;32m      7\u001B[0m     \u001B[38;5;28mdict\u001B[39m \u001B[38;5;241m=\u001B[39m {i: arr\u001B[38;5;241m.\u001B[39mcount(i) \u001B[38;5;28;01mfor\u001B[39;00m i \u001B[38;5;129;01min\u001B[39;00m \u001B[38;5;28mset\u001B[39m(arr)}\n\u001B[0;32m---> 10\u001B[0m \u001B[38;5;28;01massert\u001B[39;00m sort_by_count([\u001B[38;5;241m1\u001B[39m, \u001B[38;5;241m2\u001B[39m, \u001B[38;5;241m1\u001B[39m, \u001B[38;5;241m3\u001B[39m, \u001B[38;5;241m1\u001B[39m]) \u001B[38;5;241m==\u001B[39m [\u001B[38;5;241m1\u001B[39m, \u001B[38;5;241m1\u001B[39m, \u001B[38;5;241m1\u001B[39m, \u001B[38;5;241m2\u001B[39m, \u001B[38;5;241m3\u001B[39m]\n\u001B[1;32m     11\u001B[0m \u001B[38;5;28;01massert\u001B[39;00m sort_by_count([\u001B[38;5;241m1\u001B[39m, \u001B[38;5;241m2\u001B[39m, \u001B[38;5;241m1\u001B[39m, \u001B[38;5;241m3\u001B[39m, \u001B[38;5;241m1\u001B[39m, \u001B[38;5;241m3\u001B[39m, \u001B[38;5;241m3\u001B[39m, \u001B[38;5;241m3\u001B[39m]) \u001B[38;5;241m==\u001B[39m [\u001B[38;5;241m3\u001B[39m, \u001B[38;5;241m3\u001B[39m, \u001B[38;5;241m3\u001B[39m, \u001B[38;5;241m3\u001B[39m, \u001B[38;5;241m1\u001B[39m, \u001B[38;5;241m1\u001B[39m, \u001B[38;5;241m1\u001B[39m, \u001B[38;5;241m2\u001B[39m]\n",
      "\u001B[0;31mAssertionError\u001B[0m: "
     ]
    }
   ],
   "source": [],
   "metadata": {
    "collapsed": false,
    "ExecuteTime": {
     "end_time": "2023-11-17T11:47:43.355563Z",
     "start_time": "2023-11-17T11:47:43.332019Z"
    }
   }
  },
  {
   "cell_type": "code",
   "execution_count": null,
   "outputs": [],
   "source": [],
   "metadata": {
    "collapsed": false
   }
  }
 ],
 "metadata": {
  "kernelspec": {
   "display_name": "Python 3",
   "language": "python",
   "name": "python3"
  },
  "language_info": {
   "codemirror_mode": {
    "name": "ipython",
    "version": 3
   },
   "file_extension": ".py",
   "mimetype": "text/x-python",
   "name": "python",
   "nbconvert_exporter": "python",
   "pygments_lexer": "ipython3",
   "version": "3.6.2"
  }
 },
 "nbformat": 4,
 "nbformat_minor": 2
}

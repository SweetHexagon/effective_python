{
 "cells": [
  {
   "cell_type": "code",
   "execution_count": 31,
   "id": "initial_id",
   "metadata": {
    "collapsed": true,
    "ExecuteTime": {
     "end_time": "2023-11-28T13:54:20.152042500Z",
     "start_time": "2023-11-28T13:54:20.138472500Z"
    }
   },
   "outputs": [
    {
     "name": "stdout",
     "output_type": "stream",
     "text": [
      "Kwartyl 1 (Q1): 4.25\n",
      "Kwartyl 2 (Q2): 4.95\n",
      "Kwartyl 3 (Q3): 5.45\n"
     ]
    }
   ],
   "source": [
    "import numpy as np\n",
    "import matplotlib.pyplot as plt\n",
    "\n",
    "# Tworzenie przykładowych danych\n",
    "data = np.array([3.6, 5.0, 4.0, 4.7, 5.2, 5.9, 4.5, 5.3, 5.5, 3.9, 5.6, 3.5, 5.4, 5.2, 4.1, 5.0, 3.1, 5.8, 4.8, 4.4, 4.6, 5.1, 4.7, 3.0, 5.5, 6.1, 3.8, 4.9, 5.6, 6.1, 5.9, 4.2, 6.4, 5.3, 4.5, 4.9, 4.0, 5.2, 3.3, 5.4, 4.7, 6.4, 5.1, 3.4, 5.2, 6.2, 4.4, 4.3, 5.8, 3.7])\n",
    "data.sort()  \n",
    "#for i, x in enumerate(data):\n",
    "#    print(i+1,\": \", x)\n",
    "# Obliczanie kwartyli\n",
    "q1 = np.percentile(data, 25, method = \"midpoint\")\n",
    "q2 = np.percentile(data, 50,method = \"midpoint\")\n",
    "q3 = np.percentile(data, 75,method = \"midpoint\")\n",
    "#[\"inverted_cdf\", \"averaged_inverted_cdf\", \"closest_observation\", \"interpolated_inverted_cdf\", \"hazen\", \"weibull\", \"linear\", \"median_unbiased\", \"normal_unbiased\", \"lower\", \"higher\", \"midpoint\", \"nearest\"]\n",
    "\n",
    "\n",
    "print(\"Kwartyl 1 (Q1):\", q1)\n",
    "print(\"Kwartyl 2 (Q2):\", q2)\n",
    "print(\"Kwartyl 3 (Q3):\", q3)"
   ]
  },
  {
   "cell_type": "code",
   "execution_count": null,
   "outputs": [],
   "source": [],
   "metadata": {
    "collapsed": false
   },
   "id": "f65d7fcc87705c8b"
  }
 ],
 "metadata": {
  "kernelspec": {
   "display_name": "Python 3",
   "language": "python",
   "name": "python3"
  },
  "language_info": {
   "codemirror_mode": {
    "name": "ipython",
    "version": 2
   },
   "file_extension": ".py",
   "mimetype": "text/x-python",
   "name": "python",
   "nbconvert_exporter": "python",
   "pygments_lexer": "ipython2",
   "version": "2.7.6"
  }
 },
 "nbformat": 4,
 "nbformat_minor": 5
}

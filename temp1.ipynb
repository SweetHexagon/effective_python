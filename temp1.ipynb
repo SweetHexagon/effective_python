{
 "cells": [
  {
   "cell_type": "markdown",
   "metadata": {},
   "source": [
    "\n",
    "#### .\n",
    "\n",
    "\n",
    "Napisz funkcję, która dla przesłanego do niej string zwróci znaki znajdujące się na parzystych pozycjach. Nie można używać: pętli, comprehensions ani programowania funkcyjnego\n",
    "\n",
    "```\n",
    "def func(s):\n",
    "    pass\n",
    "```"
   ]
  },
  {
   "cell_type": "code",
   "execution_count": 68,
   "metadata": {
    "collapsed": true,
    "ExecuteTime": {
     "end_time": "2024-01-17T22:44:06.854997Z",
     "start_time": "2024-01-17T22:44:06.352642600Z"
    }
   },
   "outputs": [
    {
     "ename": "TypeError",
     "evalue": "func() takes 0 positional arguments but 1 was given",
     "output_type": "error",
     "traceback": [
      "\u001B[1;31m---------------------------------------------------------------------------\u001B[0m",
      "\u001B[1;31mTypeError\u001B[0m                                 Traceback (most recent call last)",
      "Cell \u001B[1;32mIn[68], line 1\u001B[0m\n\u001B[1;32m----> 1\u001B[0m \u001B[38;5;28mprint\u001B[39m(\u001B[43mfunc\u001B[49m\u001B[43m(\u001B[49m\u001B[38;5;124;43m'\u001B[39;49m\u001B[38;5;124;43mhello world\u001B[39;49m\u001B[38;5;124;43m'\u001B[39;49m\u001B[43m)\u001B[49m \u001B[38;5;241m==\u001B[39m \u001B[38;5;124m'\u001B[39m\u001B[38;5;124mhlowrd\u001B[39m\u001B[38;5;124m'\u001B[39m)\n\u001B[0;32m      2\u001B[0m \u001B[38;5;28mprint\u001B[39m(func(\u001B[38;5;124m'\u001B[39m\u001B[38;5;124mdlk ezz\u001B[39m\u001B[38;5;124m'\u001B[39m) \u001B[38;5;241m==\u001B[39m \u001B[38;5;124m'\u001B[39m\u001B[38;5;124mdkez\u001B[39m\u001B[38;5;124m'\u001B[39m)\n",
      "\u001B[1;31mTypeError\u001B[0m: func() takes 0 positional arguments but 1 was given"
     ]
    }
   ],
   "source": [
    "print(func('hello world') == 'hlowrd')\n",
    "print(func('dlk ezz') == 'dkez')"
   ]
  },
  {
   "cell_type": "code",
   "execution_count": null,
   "metadata": {
    "collapsed": true,
    "ExecuteTime": {
     "start_time": "2024-01-17T22:44:06.366664500Z"
    }
   },
   "outputs": [],
   "source": [
    "#Rozwiązanie\n",
    "def func(s):\n",
    "    return s[::2]"
   ]
  },
  {
   "cell_type": "markdown",
   "metadata": {},
   "source": [
    "#### .\n",
    "\n",
    "Wykonaj wykres 3D funkcji\n",
    "$$\n",
    "z = x^2-y^2\n",
    "$$\n",
    "\n",
    "oraz rysunek poziomic tej funkcji. Tak jak poniżej\n",
    "\n",
    "![alt text](kol02_pytania/images/image04.png \"obrazek\")\n",
    "\n",
    "![alt text](kol02_pytania/images/image05.png \"obrazek\")"
   ]
  },
  {
   "cell_type": "markdown",
   "metadata": {},
   "source": [
    "Rozwiązania studentów"
   ]
  },
  {
   "cell_type": "code",
   "execution_count": null,
   "metadata": {
    "ExecuteTime": {
     "start_time": "2024-01-17T22:44:06.367666900Z"
    }
   },
   "outputs": [],
   "source": [
    "import numpy as np\n",
    "import matplotlib.pyplot as plt\n",
    "from mpl_toolkits.mplot3d import Axes3D\n",
    "from matplotlib import cm\n",
    "%matplotlib inline\n",
    "x = np.arange(-3.0, 3.0, 0.01)\n",
    "y = np.arange(-3.0, 3.0, 0.01)\n",
    "\n",
    "X, Y = np.meshgrid(x, y)\n",
    "zs = np.array([x * x - y * y for x, y in zip(np.ravel(X), np.ravel(Y))])\n",
    "Z = zs.reshape(X.shape)\n",
    "\n",
    "fig = plt.figure()\n",
    "ax = fig.add_subplot(111, projection='3d')\n",
    "\n",
    "ax.plot_surface(X, Y, Z, cmap=cm.viridis)\n",
    "\n"
   ]
  },
  {
   "cell_type": "code",
   "execution_count": null,
   "metadata": {
    "ExecuteTime": {
     "start_time": "2024-01-17T22:44:06.369168300Z"
    }
   },
   "outputs": [],
   "source": [
    "plt.contourf(X, Y, Z, cmap=cm.viridis)"
   ]
  },
  {
   "cell_type": "markdown",
   "metadata": {},
   "source": [
    "#### .\n",
    "We wczytanym poniżej zbiorze danych imion wypisz wszystkie imiona, których pod względem częstości występowania jest najwięcej, najmniej i te których jest dokładnie tyle ile wynosi mediana wystąpień. W rozwiązaniu użyj pakietu `pandas`\n",
    "\n",
    "Dane możesz wczytać wykorzystując poniższy kod\n",
    "\n",
    "```python\n",
    "import pandas as pd\n",
    "\n",
    "df = pd.read_csv('https://raw.githubusercontent.com/guipsamora/pandas_exercises/master/06_Stats/\\\n",
    "US_Baby_Names/US_Baby_Names_right.csv')\n",
    "```"
   ]
  },
  {
   "cell_type": "code",
   "execution_count": 69,
   "metadata": {
    "ExecuteTime": {
     "end_time": "2024-01-17T22:44:08.018260100Z",
     "start_time": "2024-01-17T22:44:06.379730800Z"
    }
   },
   "outputs": [
    {
     "name": "stdout",
     "output_type": "stream",
     "text": [
      "['Aadarsh' 'Aadin' 'Aaima' ... 'Zykeriah' 'Zykierra' 'Zymari']\n",
      "['Jacob']\n",
      "['Aishani' 'Alara' 'Alysse' 'Ameir' 'Anely' 'Antonina' 'Aveline' 'Aziah'\n",
      " 'Baily' 'Caleah' 'Carlota' 'Cristine' 'Dahlila' 'Darvin' 'Deante'\n",
      " 'Deserae' 'Devean' 'Elizah' 'Emmaly' 'Emmanuela' 'Envy' 'Esli' 'Fay'\n",
      " 'Gurshaan' 'Hareem' 'Iven' 'Jaice' 'Jaiyana' 'Jamiracle' 'Jelissa'\n",
      " 'Jeovany' 'Jkwon' 'Kaedence' 'Kaelee' 'Kailana' 'Kaio' 'Kyndle' 'Kynsley'\n",
      " 'Leylanie' 'Maisha' 'Malillany' 'Mariann' 'Marquell' 'Maurilio'\n",
      " 'Mckynzie' 'Mehdi' 'Nabeel' 'Nalleli' 'Nassir' 'Nazier' 'Nishant'\n",
      " 'Rebecka' 'Reghan' 'Ridwan' 'Riot' 'Rubin' 'Ryatt' 'Sameera' 'Sanjuanita'\n",
      " 'Shalyn' 'Skylie' 'Sriram' 'Trinton' 'Vita' 'Yoni' 'Zuleima']\n"
     ]
    }
   ],
   "source": [
    "import pandas as pd\n",
    "\n",
    "df = pd.read_csv('https://raw.githubusercontent.com/guipsamora/pandas_exercises/master/06_Stats/\\\n",
    "US_Baby_Names/US_Baby_Names_right.csv')\n",
    "\n",
    "\n",
    "names = df.groupby('Name').sum()\n",
    "\n",
    "# min\n",
    "print(names[names.Count == names.Count.min()].index.values)\n",
    "\n",
    "# max\n",
    "print(names[names.Count == names.Count.max()].index.values)\n",
    "\n",
    "# median\n",
    "print(names[names.Count == names.Count.median()].index.values)"
   ]
  },
  {
   "cell_type": "markdown",
   "metadata": {},
   "source": [
    "#### .\n",
    "Zwizualizuj poniższą próbkę danych na 3 wykresach na jedne figurze (plt.figure), na pierwszym ma się znaleźć histogram wartości pierwszego wymiaru z próbki, na drugim wylosowane punkty na płaszczyźnie, na trzecim histogram wartości drugiego wymiaru.\n",
    "\n",
    "```python\n",
    "import matplotlib.pyplot as plt\n",
    "%matplotlib inline\n",
    "import numpy as np\n",
    "\n",
    "X = np.random.multivariate_normal(mean=[0, 0], cov=[[1, 0.5], [0.5, 1]], size=1000)\n",
    "```\n",
    "\n",
    "Postaraj się osiągnąć efekt zbliżony do:\n",
    "\n",
    "![alt text](kol02_pytania/images/image02.png \"obrazek\")"
   ]
  },
  {
   "cell_type": "markdown",
   "metadata": {},
   "source": [
    "Rozwiązania studentów"
   ]
  },
  {
   "cell_type": "code",
   "execution_count": 70,
   "metadata": {
    "ExecuteTime": {
     "end_time": "2024-01-17T22:44:08.158931300Z",
     "start_time": "2024-01-17T22:44:08.017262800Z"
    }
   },
   "outputs": [
    {
     "data": {
      "text/plain": "<Figure size 640x480 with 3 Axes>",
      "image/png": "[encoded data removed]"
     },
     "metadata": {},
     "output_type": "display_data"
    }
   ],
   "source": [
    "import matplotlib.pyplot as plt\n",
    "import numpy as np\n",
    "\n",
    "\n",
    "X = np.random.multivariate_normal(mean=[0, 0], cov=[[1, 0.5], [0.5, 1]], size=1000)\n",
    "\n",
    "plt.subplot(331)\n",
    "plt.hist(X[:, 0])\n",
    "\n",
    "plt.subplot(332)\n",
    "plt.scatter(X[:, 0], X[:, 1])\n",
    "\n",
    "plt.subplot(333)\n",
    "plt.hist(X[:, 1])\n",
    "\n",
    "plt.show()\n"
   ]
  },
  {
   "cell_type": "markdown",
   "metadata": {},
   "source": [
    "#### .\n",
    "Zmodyfikuj poniższy kod, aby dział szybciej.\n",
    "\n",
    "```python\n",
    "import string\n",
    "def func():\n",
    "    s = string.ascii_letters*100\n",
    "    slist = '[]'\n",
    "    for i in s:\n",
    "        slist = slist + i\n",
    "    return slist\n",
    "```\n",
    "\n",
    "Uwaga w testach `%timeit func()` zmniejszono czas z 1.27 ms do 170 µs."
   ]
  },
  {
   "cell_type": "code",
   "execution_count": 71,
   "metadata": {
    "collapsed": true,
    "ExecuteTime": {
     "end_time": "2024-01-17T22:44:08.170091400Z",
     "start_time": "2024-01-17T22:44:08.154932800Z"
    }
   },
   "outputs": [],
   "source": [
    "import string\n",
    "def func():\n",
    "    s = string.ascii_letters*100\n",
    "    slist = '[]'\n",
    "    for i in s:\n",
    "        slist = slist + i\n",
    "    return slist"
   ]
  },
  {
   "cell_type": "code",
   "execution_count": 72,
   "metadata": {
    "ExecuteTime": {
     "end_time": "2024-01-17T22:44:13.337152600Z",
     "start_time": "2024-01-17T22:44:08.172092Z"
    }
   },
   "outputs": [
    {
     "name": "stdout",
     "output_type": "stream",
     "text": [
      "622 µs ± 4.35 µs per loop (mean ± std. dev. of 7 runs, 1,000 loops each)\n"
     ]
    }
   ],
   "source": [
    "%timeit func()"
   ]
  },
  {
   "cell_type": "markdown",
   "metadata": {},
   "source": [
    "Rozwiązania studentów"
   ]
  },
  {
   "cell_type": "code",
   "execution_count": 73,
   "metadata": {
    "collapsed": true,
    "ExecuteTime": {
     "end_time": "2024-01-17T22:44:13.350232100Z",
     "start_time": "2024-01-17T22:44:13.336154Z"
    }
   },
   "outputs": [],
   "source": [
    "def func():\n",
    "    return ''.join([i for i in string.ascii_letters*100])"
   ]
  },
  {
   "cell_type": "code",
   "execution_count": 74,
   "metadata": {
    "ExecuteTime": {
     "end_time": "2024-01-17T22:44:20.138860200Z",
     "start_time": "2024-01-17T22:44:13.350232100Z"
    }
   },
   "outputs": [
    {
     "name": "stdout",
     "output_type": "stream",
     "text": [
      "83.5 µs ± 138 ns per loop (mean ± std. dev. of 7 runs, 10,000 loops each)\n"
     ]
    }
   ],
   "source": [
    "%timeit func()"
   ]
  },
  {
   "cell_type": "code",
   "execution_count": 75,
   "metadata": {
    "collapsed": true,
    "ExecuteTime": {
     "end_time": "2024-01-17T22:44:20.151139700Z",
     "start_time": "2024-01-17T22:44:20.136099900Z"
    }
   },
   "outputs": [],
   "source": [
    "def func():\n",
    "    return '[]' + string.ascii_letters * 100"
   ]
  },
  {
   "cell_type": "code",
   "execution_count": 76,
   "metadata": {
    "ExecuteTime": {
     "end_time": "2024-01-17T22:44:22.442279800Z",
     "start_time": "2024-01-17T22:44:20.151139700Z"
    }
   },
   "outputs": [
    {
     "name": "stdout",
     "output_type": "stream",
     "text": [
      "280 ns ± 2.87 ns per loop (mean ± std. dev. of 7 runs, 1,000,000 loops each)\n"
     ]
    }
   ],
   "source": [
    "%timeit func()"
   ]
  },
  {
   "cell_type": "markdown",
   "metadata": {
    "collapsed": true
   },
   "source": [
    "#### .\n",
    "Napisz funkcję, która pokaże kierunek dziedziczenia dla klasy przesłąnej jak oargument\n",
    "\n",
    "```python\n",
    "def pol(a):\n",
    "    pass\n",
    "```"
   ]
  },
  {
   "cell_type": "code",
   "execution_count": 77,
   "metadata": {
    "collapsed": true,
    "ExecuteTime": {
     "end_time": "2024-01-17T22:44:22.483602700Z",
     "start_time": "2024-01-17T22:44:22.440775900Z"
    }
   },
   "outputs": [
    {
     "name": "stdout",
     "output_type": "stream",
     "text": [
      "True\n",
      "True\n",
      "True\n",
      "True\n",
      "True\n"
     ]
    }
   ],
   "source": [
    "class A1: pass\n",
    "class A2: pass\n",
    "class A3: pass\n",
    "class A4: pass\n",
    "class A5: pass\n",
    "class B1(A1, A2, A3): pass\n",
    "class B2(A4, A2, A5): pass\n",
    "class B3(A4, A1): pass\n",
    "class R(B1, B2, B3): pass\n",
    "\n",
    "print(pol(A1) == [A1, object])\n",
    "print(pol(B1) == [B1, A1, A2, A3, object])\n",
    "print(pol(B2) == [B2, A4, A2, A5, object])\n",
    "print(pol(B3) == [B3, A4, A1, object])\n",
    "print(pol(R) == [R, B1, B2, B3, A4, A1, A2, A3, A5, object])"
   ]
  },
  {
   "cell_type": "code",
   "execution_count": 78,
   "metadata": {
    "collapsed": true,
    "ExecuteTime": {
     "end_time": "2024-01-17T22:44:22.495643900Z",
     "start_time": "2024-01-17T22:44:22.455547400Z"
    }
   },
   "outputs": [],
   "source": [
    "class A1: pass\n",
    "class A2: pass\n",
    "class A3: pass\n",
    "class A4: pass\n",
    "class A5: pass\n",
    "class B1(A1, A2, A3): pass\n",
    "class B2(A4, A2, A5): pass\n",
    "class B3(A4, A1): pass\n",
    "class R(B1, B2, B3): pass"
   ]
  },
  {
   "cell_type": "markdown",
   "metadata": {},
   "source": [
    "Rozwiązania studentów"
   ]
  },
  {
   "cell_type": "code",
   "execution_count": 79,
   "metadata": {
    "ExecuteTime": {
     "end_time": "2024-01-17T22:44:22.497643600Z",
     "start_time": "2024-01-17T22:44:22.471588700Z"
    }
   },
   "outputs": [
    {
     "name": "stdout",
     "output_type": "stream",
     "text": [
      "True\n",
      "True\n",
      "True\n",
      "True\n",
      "True\n"
     ]
    }
   ],
   "source": [
    "def pol(cls):\n",
    "    return cls.mro()\n",
    "print(pol(A1) == [A1, object])\n",
    "print(pol(B1) == [B1, A1, A2, A3, object])\n",
    "print(pol(B2) == [B2, A4, A2, A5, object])\n",
    "print(pol(B3) == [B3, A4, A1, object])\n",
    "print(pol(R) == [R, B1, B2, B3, A4, A1, A2, A3, A5, object])"
   ]
  },
  {
   "cell_type": "markdown",
   "metadata": {},
   "source": [
    "#### .\n",
    "Przepisz poniższą funkcję aby działała około 100 razy szybciej dla zadanego wektora `x`\n",
    "\n",
    "```python\n",
    "import numpy as np\n",
    "\n",
    "def m_sin(x):\n",
    "    r = np.zeros_like(x) \n",
    "    for i in range(len(x)):\n",
    "        r[i] = np.sin(x[i])\n",
    "    return r\n",
    "\n",
    "x = np.linspace(0, 1, 1000000)\n",
    "\n",
    "```"
   ]
  },
  {
   "cell_type": "code",
   "execution_count": 80,
   "metadata": {
    "collapsed": true,
    "ExecuteTime": {
     "end_time": "2024-01-17T22:44:22.514323300Z",
     "start_time": "2024-01-17T22:44:22.486134600Z"
    }
   },
   "outputs": [],
   "source": [
    "import numpy as np\n",
    "def m_sin(x):\n",
    "    r = np.zeros_like(x) \n",
    "    for i in range(len(x)):\n",
    "        r[i] = np.sin(x[i])\n",
    "    return r\n",
    "\n",
    "x = np.linspace(0, 1, 1000000)"
   ]
  },
  {
   "cell_type": "code",
   "execution_count": 81,
   "metadata": {
    "ExecuteTime": {
     "end_time": "2024-01-17T22:44:28.012855700Z",
     "start_time": "2024-01-17T22:44:22.502296200Z"
    }
   },
   "outputs": [
    {
     "name": "stdout",
     "output_type": "stream",
     "text": [
      "685 ms ± 4.9 ms per loop (mean ± std. dev. of 7 runs, 1 loop each)\n"
     ]
    }
   ],
   "source": [
    "%timeit m_sin(x)"
   ]
  },
  {
   "cell_type": "markdown",
   "metadata": {},
   "source": [
    "Rozwiązania studentów"
   ]
  },
  {
   "cell_type": "code",
   "execution_count": 82,
   "metadata": {
    "collapsed": true,
    "ExecuteTime": {
     "end_time": "2024-01-17T22:44:28.057163500Z",
     "start_time": "2024-01-17T22:44:28.014227100Z"
    }
   },
   "outputs": [],
   "source": [
    "import numpy as np\n",
    "\n",
    "def m_sin(x):\n",
    "    return np.sin(x)"
   ]
  },
  {
   "cell_type": "code",
   "execution_count": 83,
   "metadata": {
    "ExecuteTime": {
     "end_time": "2024-01-17T22:44:31.071554200Z",
     "start_time": "2024-01-17T22:44:28.028015100Z"
    }
   },
   "outputs": [
    {
     "name": "stdout",
     "output_type": "stream",
     "text": [
      "3.74 ms ± 39.3 µs per loop (mean ± std. dev. of 7 runs, 100 loops each)\n"
     ]
    }
   ],
   "source": [
    "%timeit m_sin(x)"
   ]
  },
  {
   "cell_type": "markdown",
   "metadata": {},
   "source": [
    "#### .\n",
    "Napisz klasę dziedziczącą po klasie `list`, która w momencie odczytu wartości pod wskazanym indeksem przy pomocy nawiasów `[]` zwróci wartość z losowej pozycji.\n",
    "\n",
    "```python\n",
    "import random\n",
    "random.seed(1)\n",
    "class V(...):\n",
    "    pass\n",
    "```"
   ]
  },
  {
   "cell_type": "code",
   "execution_count": 84,
   "metadata": {
    "collapsed": true,
    "ExecuteTime": {
     "end_time": "2024-01-17T22:44:31.090907900Z",
     "start_time": "2024-01-17T22:44:31.073059100Z"
    }
   },
   "outputs": [
    {
     "name": "stdout",
     "output_type": "stream",
     "text": [
      "False\n",
      "False\n",
      "False\n",
      "True\n"
     ]
    }
   ],
   "source": [
    "v = V()\n",
    "v.extend([1,2,3])\n",
    "print(v[2] == 2)\n",
    "print(v[2] == 1)\n",
    "print(v[2] == 3)\n",
    "print(v[2] == 1)"
   ]
  },
  {
   "cell_type": "markdown",
   "metadata": {},
   "source": [
    "Rozwiązania studentów"
   ]
  },
  {
   "cell_type": "code",
   "execution_count": 85,
   "metadata": {
    "collapsed": true,
    "ExecuteTime": {
     "end_time": "2024-01-17T22:44:31.130541600Z",
     "start_time": "2024-01-17T22:44:31.086517900Z"
    }
   },
   "outputs": [],
   "source": [
    "import random\n",
    "class V(list):\n",
    "    def __getitem__(self, item):\n",
    "        return list.__getitem__(self, random.randint(0, self.__len__() ))"
   ]
  },
  {
   "cell_type": "code",
   "execution_count": 86,
   "metadata": {
    "ExecuteTime": {
     "end_time": "2024-01-17T22:44:31.160630400Z",
     "start_time": "2024-01-17T22:44:31.119525300Z"
    }
   },
   "outputs": [
    {
     "name": "stdout",
     "output_type": "stream",
     "text": [
      "False\n",
      "False\n",
      "True\n"
     ]
    },
    {
     "ename": "IndexError",
     "evalue": "list index out of range",
     "output_type": "error",
     "traceback": [
      "\u001B[1;31m---------------------------------------------------------------------------\u001B[0m",
      "\u001B[1;31mIndexError\u001B[0m                                Traceback (most recent call last)",
      "Cell \u001B[1;32mIn[86], line 6\u001B[0m\n\u001B[0;32m      4\u001B[0m \u001B[38;5;28mprint\u001B[39m(v[\u001B[38;5;241m2\u001B[39m] \u001B[38;5;241m==\u001B[39m \u001B[38;5;241m1\u001B[39m)\n\u001B[0;32m      5\u001B[0m \u001B[38;5;28mprint\u001B[39m(v[\u001B[38;5;241m2\u001B[39m] \u001B[38;5;241m==\u001B[39m \u001B[38;5;241m3\u001B[39m)\n\u001B[1;32m----> 6\u001B[0m \u001B[38;5;28mprint\u001B[39m(\u001B[43mv\u001B[49m\u001B[43m[\u001B[49m\u001B[38;5;241;43m2\u001B[39;49m\u001B[43m]\u001B[49m \u001B[38;5;241m==\u001B[39m \u001B[38;5;241m1\u001B[39m)\n",
      "Cell \u001B[1;32mIn[85], line 4\u001B[0m, in \u001B[0;36mV.__getitem__\u001B[1;34m(self, item)\u001B[0m\n\u001B[0;32m      3\u001B[0m \u001B[38;5;28;01mdef\u001B[39;00m \u001B[38;5;21m__getitem__\u001B[39m(\u001B[38;5;28mself\u001B[39m, item):\n\u001B[1;32m----> 4\u001B[0m     \u001B[38;5;28;01mreturn\u001B[39;00m \u001B[38;5;28;43mlist\u001B[39;49m\u001B[38;5;241;43m.\u001B[39;49m\u001B[38;5;21;43m__getitem__\u001B[39;49m\u001B[43m(\u001B[49m\u001B[38;5;28;43mself\u001B[39;49m\u001B[43m,\u001B[49m\u001B[43m \u001B[49m\u001B[43mrandom\u001B[49m\u001B[38;5;241;43m.\u001B[39;49m\u001B[43mrandint\u001B[49m\u001B[43m(\u001B[49m\u001B[38;5;241;43m0\u001B[39;49m\u001B[43m,\u001B[49m\u001B[43m \u001B[49m\u001B[38;5;28;43mself\u001B[39;49m\u001B[38;5;241;43m.\u001B[39;49m\u001B[38;5;21;43m__len__\u001B[39;49m\u001B[43m(\u001B[49m\u001B[43m)\u001B[49m\u001B[43m \u001B[49m\u001B[43m)\u001B[49m\u001B[43m)\u001B[49m\n",
      "\u001B[1;31mIndexError\u001B[0m: list index out of range"
     ]
    }
   ],
   "source": [
    "v = V()\n",
    "v.extend([1,2,3])\n",
    "print(v[2] == 2)\n",
    "print(v[2] == 1)\n",
    "print(v[2] == 3)\n",
    "print(v[2] == 1)"
   ]
  },
  {
   "cell_type": "markdown",
   "metadata": {},
   "source": [
    "#### .\n",
    "Zmodyfikuj poniższy kod, aby dział szybciej\n",
    "\n",
    "```python \n",
    "def mark(val):\n",
    "    bo = [0.5, 0.61, 0.71, 0.81, 0.91]\n",
    "    for v in bo:\n",
    "        if val < v:\n",
    "            break\n",
    "    return v\n",
    "```\n",
    "\n",
    "Uwaga w testach `%timeit -n 1000000 mark(0.4)` zmniejszono czas z 218 ns do 165 ns."
   ]
  },
  {
   "cell_type": "code",
   "execution_count": null,
   "metadata": {
    "collapsed": true,
    "ExecuteTime": {
     "start_time": "2024-01-17T22:44:31.150590800Z"
    }
   },
   "outputs": [],
   "source": [
    "def mark(val):\n",
    "    bo = (0.5, 0.61, 0.71, 0.81, 0.91)\n",
    "    for v in bo:\n",
    "        if val < v:\n",
    "            break\n",
    "    return v"
   ]
  },
  {
   "cell_type": "code",
   "execution_count": null,
   "metadata": {
    "ExecuteTime": {
     "start_time": "2024-01-17T22:44:31.152591400Z"
    }
   },
   "outputs": [],
   "source": [
    "%timeit -n 1000000 mark(0.4)"
   ]
  },
  {
   "cell_type": "markdown",
   "metadata": {},
   "source": [
    "Rozwiązania studentów"
   ]
  },
  {
   "cell_type": "code",
   "execution_count": null,
   "metadata": {
    "collapsed": true,
    "ExecuteTime": {
     "start_time": "2024-01-17T22:44:31.154100500Z"
    }
   },
   "outputs": [],
   "source": [
    "def mark(val):\n",
    "    for v in (0.5, 0.61, 0.71, 0.81, 0.91):\n",
    "        if val < v:\n",
    "            break\n",
    "    return v"
   ]
  },
  {
   "cell_type": "code",
   "execution_count": null,
   "metadata": {
    "ExecuteTime": {
     "start_time": "2024-01-17T22:44:31.155111Z"
    }
   },
   "outputs": [],
   "source": [
    "%timeit -n 1000000 mark(0.4)"
   ]
  },
  {
   "cell_type": "markdown",
   "metadata": {},
   "source": [
    "#### .\n",
    "Jak zoptymalizować działanie poniższej pętli, tak aby czas jej działania skrócił się znacząco\n",
    "\n",
    "```python\n",
    "from math import sin\n",
    "\n",
    "def loop(num):\n",
    "    result = 0\n",
    "    for i in range(num):\n",
    "        result += i * sin(num)\n",
    "    return result\n",
    "```\n",
    "\n",
    "W testach czas dla `num = 100000` skrócił się z 20.6 ms do  5.56 ms."
   ]
  },
  {
   "cell_type": "markdown",
   "metadata": {},
   "source": [
    "Rozwiązania studentów"
   ]
  },
  {
   "cell_type": "code",
   "execution_count": null,
   "metadata": {
    "collapsed": true,
    "ExecuteTime": {
     "start_time": "2024-01-17T22:44:31.156619900Z"
    }
   },
   "outputs": [],
   "source": [
    "import numpy as np\n",
    "from math import sin\n",
    "\n",
    "def loop(num):\n",
    "    sinus = sin(num)\n",
    "    return (sum(x* sinus) for x in range(0, num))\n",
    "def loop1(num):\n",
    "    sinus = sin(num)\n",
    "    x = np.arange(0.0, num, 1.0)\n",
    "    x *= sinus\n",
    "    return np.sum(x)"
   ]
  },
  {
   "cell_type": "code",
   "execution_count": null,
   "metadata": {
    "ExecuteTime": {
     "start_time": "2024-01-17T22:44:31.157630500Z"
    }
   },
   "outputs": [],
   "source": [
    "%timeit loop(100000)\n",
    "%timeit loop1(100000)\n"
   ]
  },
  {
   "cell_type": "markdown",
   "metadata": {},
   "source": [
    "#### .\n",
    "Uzupełnij klasę `Point` tak aby przechodziła ona testy:\n",
    "\n",
    "```python\n",
    "class Point:\n",
    "    pass\n",
    "```"
   ]
  },
  {
   "cell_type": "code",
   "execution_count": null,
   "metadata": {
    "collapsed": true,
    "ExecuteTime": {
     "start_time": "2024-01-17T22:44:31.159630700Z"
    }
   },
   "outputs": [],
   "source": [
    "a = Point(1,1)\n",
    "b = Point(2,2)\n",
    "print(a+b == Point(3,3))\n",
    "print(a-b == Point(-1,-1))\n",
    "print(a*2 == Point(2,2))\n",
    "print(str(a) == '(x=1, y=1)')"
   ]
  },
  {
   "cell_type": "markdown",
   "metadata": {},
   "source": [
    "Rozwiązania studentów"
   ]
  },
  {
   "cell_type": "code",
   "execution_count": null,
   "metadata": {
    "collapsed": true,
    "ExecuteTime": {
     "start_time": "2024-01-17T22:44:31.160630400Z"
    }
   },
   "outputs": [],
   "source": [
    "class Point:\n",
    "    def __init__(self, a, b):\n",
    "        self.a = a\n",
    "        self.b = b\n",
    "\n",
    "    def __add__(self, other):\n",
    "        return Point(self.a + other.a, self.b + other.b)\n",
    "\n",
    "    def __sub__(self, other):\n",
    "        return Point(self.a - other.a, self.b - other.b)\n",
    "\n",
    "    def __mul__(self, other):\n",
    "        return Point(self.a * other, self.b * other)\n",
    "\n",
    "    def __str__(self):\n",
    "        return '(x={}, y={})'.format(self.a, self.b)\n",
    "\n",
    "    def __eq__(self, other):\n",
    "        return self.a == other.a and self.b == other.b"
   ]
  },
  {
   "cell_type": "markdown",
   "metadata": {},
   "source": [
    "#### .\n",
    "Napisz funkcję, która zwraca listę zawierającą elementy znajdujące się na pierwszej i drugiej liście przekazanej jako argumenty funkcji.\n",
    "\n",
    "```python\n",
    "def inter_dup(list1, list2):\n",
    "    pass\n",
    "```\n",
    "\n",
    "Rozwiązanie, które przesyłasz powinno mieć mniej niż 70 znaków (do tabulacji pythonowej wykorzystaj 4 spacje). Nazwy argumentów funkcji pozostaw bez zmian."
   ]
  },
  {
   "cell_type": "markdown",
   "metadata": {},
   "source": [
    "Rozwiązania studentów"
   ]
  },
  {
   "cell_type": "code",
   "execution_count": null,
   "metadata": {
    "collapsed": true,
    "ExecuteTime": {
     "start_time": "2024-01-17T22:44:31.162630700Z"
    }
   },
   "outputs": [],
   "source": [
    "def inter_dup(list1, list2):\n",
    "    return list(set(list1) & set(list2))"
   ]
  },
  {
   "cell_type": "markdown",
   "metadata": {},
   "source": [
    "#### .\n",
    "Napisz generator, który będzie zwracał dla parametru `n` liczby podzielne przez 5 i 7 z przedziały `[0,n]`.\n",
    "\n",
    "```\n",
    "def gen_5_7(n):\n",
    "    pass\n",
    "```"
   ]
  },
  {
   "cell_type": "code",
   "execution_count": null,
   "metadata": {
    "collapsed": true,
    "ExecuteTime": {
     "start_time": "2024-01-17T22:44:31.164139700Z"
    }
   },
   "outputs": [],
   "source": [
    "print(list(gen_5_7(100))==[0, 35, 70])            \n",
    "g = gen_5_7(1000)\n",
    "print(next(g) == 0)\n",
    "print(next(g) == 35)\n",
    "print(next(g) == 70)\n",
    "print(next(g) == 105)"
   ]
  },
  {
   "cell_type": "markdown",
   "metadata": {},
   "source": [
    "Rozwiązania studentów"
   ]
  },
  {
   "cell_type": "code",
   "execution_count": null,
   "metadata": {
    "collapsed": true,
    "ExecuteTime": {
     "start_time": "2024-01-17T22:44:31.165150200Z"
    }
   },
   "outputs": [],
   "source": [
    "def gen_5_7(n):\n",
    "    for i in range(n + 1):\n",
    "        if not i % 5 and not i % 7:\n",
    "            yield i"
   ]
  },
  {
   "cell_type": "markdown",
   "metadata": {},
   "source": [
    "#### .\n",
    "Przygotuj wykres będący zwieńczeniem poniższego kodu\n",
    "\n",
    "```python\n",
    "import numpy as np\n",
    "import matplotlib.pyplot as plt\n",
    "from numpy import exp, sin, cos\n",
    "\n",
    "def g(y):\n",
    "    return exp(-y)*cos(5*y)\n",
    "\n",
    "def h(y):\n",
    "    return exp(-(3./4)*y)*cos(2*y)\n",
    "\n",
    "y = np.linspace(0, 10, 1001)\n",
    "```\n",
    "\n",
    "w Twoim rozwiązaniu postaraj się zbliżyć do\n",
    "\n",
    "![alt text](kol02_pytania/images/image03.png \"obrazek\")"
   ]
  },
  {
   "cell_type": "code",
   "execution_count": null,
   "metadata": {
    "collapsed": true,
    "ExecuteTime": {
     "start_time": "2024-01-17T22:44:31.166659100Z"
    }
   },
   "outputs": [],
   "source": [
    "## Rozwiązania studentów"
   ]
  },
  {
   "cell_type": "code",
   "execution_count": null,
   "metadata": {
    "collapsed": true,
    "ExecuteTime": {
     "start_time": "2024-01-17T22:44:31.168670Z"
    }
   },
   "outputs": [],
   "source": [
    "import numpy as np\n",
    "import matplotlib.pyplot as plt\n",
    "from numpy import exp, sin, cos\n",
    "\n",
    "def g(y):\n",
    "    return exp(-y)*cos(5*y)\n",
    "\n",
    "def h(y):\n",
    "    return exp(-(3./4)*y)*cos(2*y)\n",
    "\n",
    "y = np.linspace(0, 10, 1001)"
   ]
  },
  {
   "cell_type": "code",
   "execution_count": null,
   "metadata": {
    "ExecuteTime": {
     "end_time": "2024-01-17T22:44:31.193272500Z",
     "start_time": "2024-01-17T22:44:31.170178800Z"
    }
   },
   "outputs": [],
   "source": [
    "plt.figure()\n",
    "plt.title('Damped sine wave')\n",
    "plt.plot(y,g(y), 'r')\n",
    "plt.plot(y,h(y), 'k--')\n",
    "plt.xlabel('$y$')\n",
    "plt.ylabel('$g(y)$')\n",
    "# dodanie legendy\n",
    "plt.plot(y,g(y), 'r', label=r'g')\n",
    "plt.plot(y,h(y), 'k', label='h')\n",
    "plt.legend(loc='upper right') # pozycja legendy\n",
    "plt.show()\n"
   ]
  },
  {
   "cell_type": "markdown",
   "metadata": {},
   "source": [
    "#### .\n",
    "Napisz funkcję sumującą kwadraty parzystych liczb. Funkcja ma być napisana wykorzystując comprehension.\n",
    "\n",
    "```python\n",
    "def sum_even_sq(x):\n",
    "    pass\n",
    "```"
   ]
  },
  {
   "cell_type": "code",
   "execution_count": null,
   "metadata": {
    "collapsed": true,
    "ExecuteTime": {
     "start_time": "2024-01-17T22:44:31.171189400Z"
    }
   },
   "outputs": [],
   "source": [
    "print(sum_even_sq([2, 5, 3, 8, 2]) == 72)\n",
    "print(sum_even_sq([1, 2, 3, 4, 5]) == 20)\n",
    "print(sum_even_sq([-2, -1, 0, 1, 2]) == 8)"
   ]
  },
  {
   "cell_type": "markdown",
   "metadata": {},
   "source": [
    "Rozwiązania studentów."
   ]
  },
  {
   "cell_type": "code",
   "execution_count": null,
   "metadata": {
    "ExecuteTime": {
     "start_time": "2024-01-17T22:44:31.172189500Z"
    }
   },
   "outputs": [],
   "source": [
    "def sum_even_sq(x):\n",
    "    return sum([num ** 2 for num in x if not num % 2])\n",
    "print(sum_even_sq([2, 5, 3, 8, 2]) == 72)\n",
    "print(sum_even_sq([1, 2, 3, 4, 5]) == 20)\n",
    "print(sum_even_sq([-2, -1, 0, 1, 2]) == 8)"
   ]
  },
  {
   "cell_type": "markdown",
   "metadata": {},
   "source": [
    "#### .\n",
    "Napisz funkcję `power`, która zwróci listę wszystkich podzbiorów zadanej listy przekazanej jako argument (zgodnie z kolejnością podaną w testach)\n",
    "\n",
    "```python\n",
    "def power(x):\n",
    "    pass\n",
    "```"
   ]
  },
  {
   "cell_type": "code",
   "execution_count": null,
   "metadata": {
    "collapsed": true,
    "ExecuteTime": {
     "start_time": "2024-01-17T22:44:31.174186800Z"
    }
   },
   "outputs": [],
   "source": [
    "print(power('abc')==[[], ['a'], ['b'], ['a', 'b'], ['c'], ['a', 'c'], ['b', 'c'], ['a', 'b', 'c']])\n",
    "print(power([1, 2, 3])==[[], [1], [2], [1, 2], [3], [1, 3], [2, 3], [1, 2, 3]])\n",
    "print(power(['abc', 5, 6])==[[], ['abc'], [5], ['abc', 5], [6], ['abc', 6], [5, 6], ['abc', 5, 6]])"
   ]
  },
  {
   "cell_type": "markdown",
   "metadata": {},
   "source": [
    "Rozwiązania studentów"
   ]
  },
  {
   "cell_type": "code",
   "execution_count": null,
   "metadata": {
    "ExecuteTime": {
     "start_time": "2024-01-17T22:44:31.174697900Z"
    }
   },
   "outputs": [],
   "source": [
    "def power(x):\n",
    "    result = [[]]\n",
    "    for item in x:\n",
    "        subsetlist = []\n",
    "        for subset in result:\n",
    "            subsetlist.append(subset + [item])\n",
    "        result.extend(subsetlist)\n",
    "    return result\n",
    "print(power('abc')==[[], ['a'], ['b'], ['a', 'b'], ['c'], ['a', 'c'], ['b', 'c'], ['a', 'b', 'c']])\n",
    "print(power([1, 2, 3])==[[], [1], [2], [1, 2], [3], [1, 3], [2, 3], [1, 2, 3]])\n",
    "print(power(['abc', 5, 6])==[[], ['abc'], [5], ['abc', 5], [6], ['abc', 6], [5, 6], ['abc', 5, 6]])"
   ]
  },
  {
   "cell_type": "code",
   "execution_count": null,
   "metadata": {
    "ExecuteTime": {
     "start_time": "2024-01-17T22:44:31.176708400Z"
    }
   },
   "outputs": [],
   "source": [
    "from functools import reduce\n",
    "\n",
    "def power(x):\n",
    "    return reduce(lambda result, e: result + [subset + [e] for subset in result], x, [[]])\n",
    "print(power('abc')==[[], ['a'], ['b'], ['a', 'b'], ['c'], ['a', 'c'], ['b', 'c'], ['a', 'b', 'c']])\n",
    "print(power([1, 2, 3])==[[], [1], [2], [1, 2], [3], [1, 3], [2, 3], [1, 2, 3]])\n",
    "print(power(['abc', 5, 6])==[[], ['abc'], [5], ['abc', 5], [6], ['abc', 6], [5, 6], ['abc', 5, 6]])"
   ]
  },
  {
   "cell_type": "markdown",
   "metadata": {},
   "source": [
    "#### .\n",
    "Napisz program, który dla zadanej liczby naturalnej `n` wygeneruje macierze zwierającą wszystkie liczby od `0` do `n-1`, np. dla `n=100` mamy\n",
    "```python\n",
    "[[ 0  1  2  3  4  5  6  7  8  9]\n",
    " [10 11 12 13 14 15 16 17 18 19]\n",
    " [20 21 22 23 24 25 26 27 28 29]\n",
    " [30 31 32 33 34 35 36 37 38 39]\n",
    " [40 41 42 43 44 45 46 47 48 49]\n",
    " [50 51 52 53 54 55 56 57 58 59]\n",
    " [60 61 62 63 64 65 66 67 68 69]\n",
    " [70 71 72 73 74 75 76 77 78 79]\n",
    " [80 81 82 83 84 85 86 87 88 89]\n",
    " [90 91 92 93 94 95 96 97 98 99]]\n",
    "```\n",
    "Macierz zostanie wygenerowana tylko, gdy `n` jest kwadratem jakiejś liczby w przeciwnym przypadku zostanie rzucony wyjątek `ValueError`.\n",
    "```python\n",
    "def matrix(n):\n",
    "    pass\n",
    "```"
   ]
  },
  {
   "cell_type": "code",
   "execution_count": null,
   "metadata": {
    "collapsed": true,
    "ExecuteTime": {
     "start_time": "2024-01-17T22:44:31.178229700Z"
    }
   },
   "outputs": [],
   "source": [
    "import numpy as np\n",
    "\n",
    "print(np.array_equal(matrix(4),np.array([[0, 1],[2, 3]])))\n",
    "matrix(5) # rzuci wyjątek ValueError\n",
    "print(np.array_equal(matrix(16), np.array([[ 0,  1,  2,  3], [ 4,  5,  6,  7], [ 8,  9, 10, 11],[12, 13, 14, 15]])))"
   ]
  },
  {
   "cell_type": "markdown",
   "metadata": {},
   "source": [
    "Rozwiązania studentów"
   ]
  },
  {
   "cell_type": "code",
   "execution_count": null,
   "metadata": {
    "ExecuteTime": {
     "start_time": "2024-01-17T22:44:31.179229800Z"
    }
   },
   "outputs": [],
   "source": [
    "import numpy as np\n",
    "def matrix(n):\n",
    "    w = np.sqrt(n)\n",
    "    if int(w) != w:\n",
    "        raise ValueError()\n",
    "    w = int(w)\n",
    "    return np.arange(0, n).reshape(w, w)\n",
    "print(np.array_equal(matrix(4),np.array([[0, 1],[2, 3]])))\n",
    "try:\n",
    "    matrix(5) # rzuci wyjątek ValueError\n",
    "except:\n",
    "    print('ok')\n",
    "print(np.array_equal(matrix(16), np.array([[ 0,  1,  2,  3], [ 4,  5,  6,  7], [ 8,  9, 10, 11],[12, 13, 14, 15]])))"
   ]
  },
  {
   "cell_type": "markdown",
   "metadata": {},
   "source": [
    "#### .\n",
    "Napisz generator zwracający liczby z ciągu Fibonacciego.\n",
    "\n",
    "```python\n",
    "def fib():\n",
    "    pass\n",
    "```"
   ]
  },
  {
   "cell_type": "code",
   "execution_count": null,
   "metadata": {
    "collapsed": true,
    "ExecuteTime": {
     "start_time": "2024-01-17T22:44:31.180229400Z"
    }
   },
   "outputs": [],
   "source": [
    "f = fib()\n",
    "print(next(f) == 0)\n",
    "print(next(f) == 1)\n",
    "print(next(f) == 1)\n",
    "print(next(f) == 2)\n",
    "print(next(f) == 3)\n",
    "print(next(f) == 5)"
   ]
  },
  {
   "cell_type": "markdown",
   "metadata": {},
   "source": [
    "Rozwiązania studentów"
   ]
  },
  {
   "cell_type": "code",
   "execution_count": null,
   "metadata": {
    "ExecuteTime": {
     "start_time": "2024-01-17T22:44:31.181230300Z"
    }
   },
   "outputs": [],
   "source": [
    "def fib():\n",
    "    x, y = 0, 1\n",
    "    while True:\n",
    "        yield x\n",
    "        x, y = y, x + y\n",
    "f = fib()\n",
    "print(next(f) == 0)\n",
    "print(next(f) == 1)\n",
    "print(next(f) == 1)\n",
    "print(next(f) == 2)\n",
    "print(next(f) == 3)\n",
    "print(next(f) == 5)        "
   ]
  },
  {
   "cell_type": "markdown",
   "metadata": {},
   "source": [
    "#### .\n",
    "Napisz funkcję która będzie rozwiązywać problem najmnijszych kwadratów. Matematycznie rozwiązanie tego problemu to:\n",
    "$$ (X^TX)^{-1}X^Tb $$\n",
    "\n",
    "Nie wolno korzystać z funkcji `pinv` ani funkcji bezpośrednio rozwiązujących ten problem.\n",
    "\n",
    "```python\n",
    "import numpy as np\n",
    "\n",
    "def lsq(X, b):\n",
    "    pass\n",
    "```"
   ]
  },
  {
   "cell_type": "code",
   "execution_count": null,
   "metadata": {
    "collapsed": true,
    "ExecuteTime": {
     "start_time": "2024-01-17T22:44:31.182229400Z"
    }
   },
   "outputs": [],
   "source": [
    "import numpy as np\n",
    "\n",
    "X = np.array([[1, 2], [2, 3], [4, 4]])\n",
    "b = [1, 2, 3]\n",
    "print(np.isclose(lsq(X, b), [0.39393939,0.36363636]))\n",
    "\n",
    "X = np.array([[1, -1], [0, 3], [4, 4]])\n",
    "b = [1, 2, 2]\n",
    "print(np.isclose(lsq(X, b), [ 0.1797235,0.39631336]))"
   ]
  },
  {
   "cell_type": "markdown",
   "metadata": {},
   "source": [
    "Rozwiązania studentów"
   ]
  },
  {
   "cell_type": "code",
   "execution_count": null,
   "metadata": {
    "ExecuteTime": {
     "start_time": "2024-01-17T22:44:31.183229900Z"
    }
   },
   "outputs": [],
   "source": [
    "def lsq(X, b):\n",
    "    X = np.matrix(X)\n",
    "    b = np.matrix(b).T\n",
    "    return np.ravel(((X.T * X) ** -1) * (X.T * b))\n",
    "X = np.array([[1, 2], [2, 3], [4, 4]])\n",
    "b = [1, 2, 3]\n",
    "print(np.isclose(lsq(X, b), [0.39393939,0.36363636]))\n",
    "\n",
    "X = np.array([[1, -1], [0, 3], [4, 4]])\n",
    "b = [1, 2, 2]\n",
    "print(np.isclose(lsq(X, b), [ 0.1797235,0.39631336]))"
   ]
  },
  {
   "cell_type": "markdown",
   "metadata": {},
   "source": [
    "#### .\n",
    "Napisz funkcję która z podanego tekstu wyciągnie poprawne e-maile i zwróci nazwy serwisów do których te maile należą(to co jest za @). Serwisy mają się nie powtarzać.\n",
    "\n",
    "```python\n",
    "def get_mails(text):\n",
    "    pass\n",
    "```"
   ]
  },
  {
   "cell_type": "code",
   "execution_count": null,
   "metadata": {
    "collapsed": true,
    "ExecuteTime": {
     "start_time": "2024-01-17T22:44:31.184741Z"
    }
   },
   "outputs": [],
   "source": [
    "text = \"\"\"send it to me@gmail.com. Be careful not to write me@gmeil.com cause that won't work. Yours is you@gmail.com, right?\n",
    "Yes, and Mark's is mark@onet.pl\"\"\"\n",
    "\n",
    "print(get_mails(text) ==['gmail.com', 'onet.pl', 'gmeil.com'] )"
   ]
  },
  {
   "cell_type": "markdown",
   "metadata": {},
   "source": [
    "Rozwiązania studentów"
   ]
  },
  {
   "cell_type": "code",
   "execution_count": null,
   "metadata": {
    "ExecuteTime": {
     "start_time": "2024-01-17T22:44:31.185751Z"
    }
   },
   "outputs": [],
   "source": [
    "text = \"\"\"send it to me@gmail.com. Be careful not to write me@gmeil.com cause that won't work. Yours is you@gmail.com, right?\n",
    "Yes, and Mark's is mark@onet.pl\"\"\"\n",
    "import re\n",
    "def get_mails(text):\n",
    "    results = re.findall(r\"[a-zA-Z0-9.]+@[a-zA-Z0-9]+.[a-zA-Z0-9]+\", text)\n",
    "    domains = []\n",
    "    for result in results:\n",
    "        domain = result.split(\"@\")[-1]\n",
    "        if domain not in domains:\n",
    "            domains += [domain]\n",
    "    print(domains)\n",
    "    return domains\n",
    "print(get_mails(text) ==['gmail.com', 'onet.pl', 'gmeil.com'] )"
   ]
  },
  {
   "cell_type": "code",
   "execution_count": null,
   "metadata": {
    "ExecuteTime": {
     "start_time": "2024-01-17T22:44:31.186751400Z"
    }
   },
   "outputs": [],
   "source": [
    "def get_mails(text):\n",
    "    all = re.findall('\\w+@(\\w+.\\w+)', text)\n",
    "    return list(set(all))\n",
    "\n",
    "print(get_mails(text))\n",
    "print(get_mails(text) ==['gmail.com', 'onet.pl', 'gmeil.com'] )"
   ]
  },
  {
   "cell_type": "markdown",
   "metadata": {},
   "source": [
    "#### .\n",
    "Zaimplementuj funckje `keys_longer_then` używając elementów programowania funkcyjnego, w szczególności zabronione jest używanie słów kluczowych `for`, `while`\n",
    "\n",
    "```python\n",
    "def keys_longer_then(d, k=3):\n",
    "    \"\"\" Zwraca liste kluczy ze słownika d których wartość jest dłuższa niż paramter k, można \n",
    "        założyć, że zarówno klucze jak i wartość w słowniku są stringami \"\"\"\n",
    "    pass\n",
    "```"
   ]
  },
  {
   "cell_type": "code",
   "execution_count": null,
   "metadata": {
    "collapsed": true,
    "ExecuteTime": {
     "start_time": "2024-01-17T22:44:31.187262400Z"
    }
   },
   "outputs": [],
   "source": [
    "d = {'ala': 'makota', 'jan': 'nowak', 'bruce': 'lee'}\n",
    "\n",
    "print(keys_longer_then(d) == ['ala', 'jan'])\n",
    "print(keys_longer_then(d, k=5) == ['ala'])\n",
    "print(keys_longer_then(d, k=6) == [])"
   ]
  },
  {
   "cell_type": "markdown",
   "metadata": {},
   "source": [
    "Rozwiązania studentów"
   ]
  },
  {
   "cell_type": "code",
   "execution_count": null,
   "metadata": {
    "ExecuteTime": {
     "start_time": "2024-01-17T22:44:31.188272600Z"
    }
   },
   "outputs": [],
   "source": [
    "def keys_longer_then(d, k=3):\n",
    "    return list(map(lambda x: x[0], filter(lambda x: len(x[1]) > k, d.items())))\n",
    "d = {'ala': 'makota', 'jan': 'nowak', 'bruce': 'lee'}\n",
    "\n",
    "print(keys_longer_then(d) == ['ala', 'jan'])\n",
    "print(keys_longer_then(d, k=5) == ['ala'])\n",
    "print(keys_longer_then(d, k=6) == [])"
   ]
  },
  {
   "cell_type": "code",
   "execution_count": null,
   "metadata": {
    "ExecuteTime": {
     "start_time": "2024-01-17T22:44:31.189272100Z"
    }
   },
   "outputs": [],
   "source": [
    "def keys_longer_then(d, k=3):\n",
    "    \"\"\" Zwraca liste kluczy ze słownika d których wartość jest dłuższa niż paramter k, można \n",
    "        założyć, że zarówno klucze jak i wartość w słowniku są stringami \"\"\"\n",
    "    return list(filter(lambda x: len(d[x]) > k, d))\n",
    "print(keys_longer_then(d) == ['ala', 'jan'])\n",
    "print(keys_longer_then(d, k=5) == ['ala'])\n",
    "print(keys_longer_then(d, k=6) == [])"
   ]
  },
  {
   "cell_type": "markdown",
   "metadata": {},
   "source": [
    "#### .\n",
    "Wylosuj z dwóch różnych rozkładów normlanych o odchyleniu standardowym 1 i średnich odpowiednio -1 i 1 po 1000 liczb, następnie zwizaulizuj te dwie próbki na jednym wykresie za pomocą histogramów, różnymi kolorami, tak aby była wyraźnie widoczna część wspólna dwóch histogramów.\n",
    "\n",
    "Osiągnij wynik zbliżony do następujacego\n",
    "![alt text](kol02_pytania/images/image01.png \"obrazek\")\n",
    "\n",
    "W rozwiązaniu podaj procedurę generującą wykres. Możesz wykorzystać:\n",
    "\n",
    "```python\n",
    "import matplotlib.pyplot as plt\n",
    "%matplotlib inline\n",
    "import numpy as np\n",
    "```"
   ]
  },
  {
   "cell_type": "markdown",
   "metadata": {},
   "source": [
    "Rozwiązania studentów"
   ]
  },
  {
   "cell_type": "code",
   "execution_count": null,
   "metadata": {
    "ExecuteTime": {
     "start_time": "2024-01-17T22:44:31.190272200Z"
    }
   },
   "outputs": [],
   "source": [
    "import matplotlib.pyplot as plt\n",
    "sample1 = np.random.randn(1000) - 1\n",
    "sample2 = np.random.randn(1000) + 1\n",
    "plt.hist(sample1)\n",
    "plt.hist(sample2, alpha=0.7)\n",
    "plt.show()"
   ]
  },
  {
   "cell_type": "code",
   "execution_count": null,
   "metadata": {
    "ExecuteTime": {
     "start_time": "2024-01-17T22:44:31.191272100Z"
    }
   },
   "outputs": [],
   "source": [
    "%matplotlib inline\n",
    "import numpy as np\n",
    "\n",
    "a = np.random.normal(loc=-1, scale=1, size=1000)\n",
    "b = np.random.normal(loc=1, scale=1, size=1000)\n",
    "\n",
    "plt.hist(a, alpha=0.5, label='-1')\n",
    "plt.hist(b, alpha=0.5, label='1')\n",
    "\n",
    "plt.show()"
   ]
  },
  {
   "cell_type": "markdown",
   "metadata": {},
   "source": [
    "#### .\n",
    "Zaimplementuj funkcję `sum_of_squares_positive` używając elementów programowania funkcyjnego, w szczególności zabronione jest używanie słów kluczowych `for`, `while` i `sum`\n",
    "\n",
    "```python\n",
    "from functools import reduce\n",
    "\n",
    "def sum_of_squares_positive(numbers):\n",
    "    \"\"\" Zwraca sumę kwadratów liczb dodatnich z listy numbers \"\"\"\n",
    "    pass\n",
    "```"
   ]
  },
  {
   "cell_type": "code",
   "execution_count": null,
   "metadata": {
    "collapsed": true,
    "ExecuteTime": {
     "start_time": "2024-01-17T22:44:31.192272400Z"
    }
   },
   "outputs": [],
   "source": [
    "print(sum_of_squares_positive([1,2,3,4]) == 30)\n",
    "print(sum_of_squares_positive([1, -1, -2, -3]) == 1)\n",
    "print(sum_of_squares_positive([-51, -1, -2, -3]) == 0)"
   ]
  },
  {
   "cell_type": "markdown",
   "metadata": {},
   "source": [
    "Rozwiązania studentów"
   ]
  },
  {
   "cell_type": "code",
   "execution_count": null,
   "metadata": {
    "ExecuteTime": {
     "start_time": "2024-01-17T22:44:31.193272500Z"
    }
   },
   "outputs": [],
   "source": [
    "def sum_of_squares_positive(numbers):\n",
    "    return reduce(lambda a, b: a + b, map(lambda x: x * x, filter(lambda x: x > 0, numbers)), 0)\n",
    "\n",
    "print(sum_of_squares_positive([1,2,3,4]) == 30)\n",
    "print(sum_of_squares_positive([1, -1, -2, -3]) == 1)\n",
    "print(sum_of_squares_positive([-51, -1, -2, -3]) == 0)"
   ]
  },
  {
   "cell_type": "markdown",
   "metadata": {},
   "source": [
    "#### .\n",
    "Używając biblioteki **numpy** zaimplementuj funckje `normalize_rows`, która normalizuje wiersze macierzy tak by każdy z nich miał normę euklidesową 1. Możesz użyć funckji `numpy.linalg.norm`. Następnie wylosuj macierz z wartościami z przedziału `[0,1]` o 20 wierszach i 5 kolumnach i znormalizuj ją swoją funkcją.\n",
    "\n",
    "```python\n",
    "import numpy as np\n",
    "\n",
    "def normalize_rows(X):\n",
    "    pass\n",
    "```"
   ]
  },
  {
   "cell_type": "code",
   "execution_count": null,
   "metadata": {
    "collapsed": true,
    "ExecuteTime": {
     "end_time": "2024-01-17T22:44:31.315604600Z",
     "start_time": "2024-01-17T22:44:31.194272600Z"
    }
   },
   "outputs": [],
   "source": [
    "X = ...  # uzupełnij zgodnie z treścią zadania\n",
    "X_norm = normalize_rows(X)\n",
    "\n",
    "print(all((np.linalg.norm(X_norm, axis=1) - np.ones(20)) < 1e-8))"
   ]
  },
  {
   "cell_type": "markdown",
   "metadata": {},
   "source": [
    "Rozwiązania studentów"
   ]
  },
  {
   "cell_type": "code",
   "execution_count": null,
   "metadata": {
    "ExecuteTime": {
     "start_time": "2024-01-17T22:44:31.194783300Z"
    }
   },
   "outputs": [],
   "source": [
    "def normalize_rows(X):\n",
    "    row_sums = X.sum(axis=1)\n",
    "    return X / row_sums[:, np.newaxis]\n",
    "\n",
    "X = np.random.rand(20, 5)\n",
    "X_norm = normalize_rows(X)\n",
    "\n",
    "print(all((np.linalg.norm(X_norm, axis=1) - np.ones(20)) < 1e-8))"
   ]
  }
 ],
 "metadata": {
  "kernelspec": {
   "display_name": "Python 3",
   "language": "python",
   "name": "python3"
  },
  "language_info": {
   "codemirror_mode": {
    "name": "ipython",
    "version": 3
   },
   "file_extension": ".py",
   "mimetype": "text/x-python",
   "name": "python",
   "nbconvert_exporter": "python",
   "pygments_lexer": "ipython3",
   "version": "3.6.2"
  }
 },
 "nbformat": 4,
 "nbformat_minor": 2
}
